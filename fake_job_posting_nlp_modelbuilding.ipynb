{
 "cells": [
  {
   "cell_type": "code",
   "execution_count": 119,
   "id": "e8f35279",
   "metadata": {},
   "outputs": [],
   "source": [
    "import pandas as pd\n",
    "import numpy as np"
   ]
  },
  {
   "cell_type": "code",
   "execution_count": 120,
   "id": "1f9691cf",
   "metadata": {},
   "outputs": [],
   "source": [
    "fake = pd.read_csv(r\"C:\\Users\\HARSH\\Desktop\\python dataset\\fake_job_postings.csv\")"
   ]
  },
  {
   "cell_type": "code",
   "execution_count": 121,
   "id": "f761b564",
   "metadata": {},
   "outputs": [
    {
     "data": {
      "text/html": [
       "<div>\n",
       "<style scoped>\n",
       "    .dataframe tbody tr th:only-of-type {\n",
       "        vertical-align: middle;\n",
       "    }\n",
       "\n",
       "    .dataframe tbody tr th {\n",
       "        vertical-align: top;\n",
       "    }\n",
       "\n",
       "    .dataframe thead th {\n",
       "        text-align: right;\n",
       "    }\n",
       "</style>\n",
       "<table border=\"1\" class=\"dataframe\">\n",
       "  <thead>\n",
       "    <tr style=\"text-align: right;\">\n",
       "      <th></th>\n",
       "      <th>job_id</th>\n",
       "      <th>title</th>\n",
       "      <th>location</th>\n",
       "      <th>department</th>\n",
       "      <th>salary_range</th>\n",
       "      <th>company_profile</th>\n",
       "      <th>description</th>\n",
       "      <th>requirements</th>\n",
       "      <th>benefits</th>\n",
       "      <th>telecommuting</th>\n",
       "      <th>has_company_logo</th>\n",
       "      <th>has_questions</th>\n",
       "      <th>employment_type</th>\n",
       "      <th>required_experience</th>\n",
       "      <th>required_education</th>\n",
       "      <th>industry</th>\n",
       "      <th>function</th>\n",
       "      <th>fraudulent</th>\n",
       "    </tr>\n",
       "  </thead>\n",
       "  <tbody>\n",
       "    <tr>\n",
       "      <th>0</th>\n",
       "      <td>1</td>\n",
       "      <td>Marketing Intern</td>\n",
       "      <td>US, NY, New York</td>\n",
       "      <td>Marketing</td>\n",
       "      <td>NaN</td>\n",
       "      <td>We're Food52, and we've created a groundbreaki...</td>\n",
       "      <td>Food52, a fast-growing, James Beard Award-winn...</td>\n",
       "      <td>Experience with content management systems a m...</td>\n",
       "      <td>NaN</td>\n",
       "      <td>0</td>\n",
       "      <td>1</td>\n",
       "      <td>0</td>\n",
       "      <td>Other</td>\n",
       "      <td>Internship</td>\n",
       "      <td>NaN</td>\n",
       "      <td>NaN</td>\n",
       "      <td>Marketing</td>\n",
       "      <td>0</td>\n",
       "    </tr>\n",
       "    <tr>\n",
       "      <th>1</th>\n",
       "      <td>2</td>\n",
       "      <td>Customer Service - Cloud Video Production</td>\n",
       "      <td>NZ, , Auckland</td>\n",
       "      <td>Success</td>\n",
       "      <td>NaN</td>\n",
       "      <td>90 Seconds, the worlds Cloud Video Production ...</td>\n",
       "      <td>Organised - Focused - Vibrant - Awesome!Do you...</td>\n",
       "      <td>What we expect from you:Your key responsibilit...</td>\n",
       "      <td>What you will get from usThrough being part of...</td>\n",
       "      <td>0</td>\n",
       "      <td>1</td>\n",
       "      <td>0</td>\n",
       "      <td>Full-time</td>\n",
       "      <td>Not Applicable</td>\n",
       "      <td>NaN</td>\n",
       "      <td>Marketing and Advertising</td>\n",
       "      <td>Customer Service</td>\n",
       "      <td>0</td>\n",
       "    </tr>\n",
       "    <tr>\n",
       "      <th>2</th>\n",
       "      <td>3</td>\n",
       "      <td>Commissioning Machinery Assistant (CMA)</td>\n",
       "      <td>US, IA, Wever</td>\n",
       "      <td>NaN</td>\n",
       "      <td>NaN</td>\n",
       "      <td>Valor Services provides Workforce Solutions th...</td>\n",
       "      <td>Our client, located in Houston, is actively se...</td>\n",
       "      <td>Implement pre-commissioning and commissioning ...</td>\n",
       "      <td>NaN</td>\n",
       "      <td>0</td>\n",
       "      <td>1</td>\n",
       "      <td>0</td>\n",
       "      <td>NaN</td>\n",
       "      <td>NaN</td>\n",
       "      <td>NaN</td>\n",
       "      <td>NaN</td>\n",
       "      <td>NaN</td>\n",
       "      <td>0</td>\n",
       "    </tr>\n",
       "    <tr>\n",
       "      <th>3</th>\n",
       "      <td>4</td>\n",
       "      <td>Account Executive - Washington DC</td>\n",
       "      <td>US, DC, Washington</td>\n",
       "      <td>Sales</td>\n",
       "      <td>NaN</td>\n",
       "      <td>Our passion for improving quality of life thro...</td>\n",
       "      <td>THE COMPANY: ESRI – Environmental Systems Rese...</td>\n",
       "      <td>EDUCATION: Bachelor’s or Master’s in GIS, busi...</td>\n",
       "      <td>Our culture is anything but corporate—we have ...</td>\n",
       "      <td>0</td>\n",
       "      <td>1</td>\n",
       "      <td>0</td>\n",
       "      <td>Full-time</td>\n",
       "      <td>Mid-Senior level</td>\n",
       "      <td>Bachelor's Degree</td>\n",
       "      <td>Computer Software</td>\n",
       "      <td>Sales</td>\n",
       "      <td>0</td>\n",
       "    </tr>\n",
       "    <tr>\n",
       "      <th>4</th>\n",
       "      <td>5</td>\n",
       "      <td>Bill Review Manager</td>\n",
       "      <td>US, FL, Fort Worth</td>\n",
       "      <td>NaN</td>\n",
       "      <td>NaN</td>\n",
       "      <td>SpotSource Solutions LLC is a Global Human Cap...</td>\n",
       "      <td>JOB TITLE: Itemization Review ManagerLOCATION:...</td>\n",
       "      <td>QUALIFICATIONS:RN license in the State of Texa...</td>\n",
       "      <td>Full Benefits Offered</td>\n",
       "      <td>0</td>\n",
       "      <td>1</td>\n",
       "      <td>1</td>\n",
       "      <td>Full-time</td>\n",
       "      <td>Mid-Senior level</td>\n",
       "      <td>Bachelor's Degree</td>\n",
       "      <td>Hospital &amp; Health Care</td>\n",
       "      <td>Health Care Provider</td>\n",
       "      <td>0</td>\n",
       "    </tr>\n",
       "  </tbody>\n",
       "</table>\n",
       "</div>"
      ],
      "text/plain": [
       "   job_id                                      title            location  \\\n",
       "0       1                           Marketing Intern    US, NY, New York   \n",
       "1       2  Customer Service - Cloud Video Production      NZ, , Auckland   \n",
       "2       3    Commissioning Machinery Assistant (CMA)       US, IA, Wever   \n",
       "3       4          Account Executive - Washington DC  US, DC, Washington   \n",
       "4       5                        Bill Review Manager  US, FL, Fort Worth   \n",
       "\n",
       "  department salary_range                                    company_profile  \\\n",
       "0  Marketing          NaN  We're Food52, and we've created a groundbreaki...   \n",
       "1    Success          NaN  90 Seconds, the worlds Cloud Video Production ...   \n",
       "2        NaN          NaN  Valor Services provides Workforce Solutions th...   \n",
       "3      Sales          NaN  Our passion for improving quality of life thro...   \n",
       "4        NaN          NaN  SpotSource Solutions LLC is a Global Human Cap...   \n",
       "\n",
       "                                         description  \\\n",
       "0  Food52, a fast-growing, James Beard Award-winn...   \n",
       "1  Organised - Focused - Vibrant - Awesome!Do you...   \n",
       "2  Our client, located in Houston, is actively se...   \n",
       "3  THE COMPANY: ESRI – Environmental Systems Rese...   \n",
       "4  JOB TITLE: Itemization Review ManagerLOCATION:...   \n",
       "\n",
       "                                        requirements  \\\n",
       "0  Experience with content management systems a m...   \n",
       "1  What we expect from you:Your key responsibilit...   \n",
       "2  Implement pre-commissioning and commissioning ...   \n",
       "3  EDUCATION: Bachelor’s or Master’s in GIS, busi...   \n",
       "4  QUALIFICATIONS:RN license in the State of Texa...   \n",
       "\n",
       "                                            benefits  telecommuting  \\\n",
       "0                                                NaN              0   \n",
       "1  What you will get from usThrough being part of...              0   \n",
       "2                                                NaN              0   \n",
       "3  Our culture is anything but corporate—we have ...              0   \n",
       "4                              Full Benefits Offered              0   \n",
       "\n",
       "   has_company_logo  has_questions employment_type required_experience  \\\n",
       "0                 1              0           Other          Internship   \n",
       "1                 1              0       Full-time      Not Applicable   \n",
       "2                 1              0             NaN                 NaN   \n",
       "3                 1              0       Full-time    Mid-Senior level   \n",
       "4                 1              1       Full-time    Mid-Senior level   \n",
       "\n",
       "  required_education                   industry              function  \\\n",
       "0                NaN                        NaN             Marketing   \n",
       "1                NaN  Marketing and Advertising      Customer Service   \n",
       "2                NaN                        NaN                   NaN   \n",
       "3  Bachelor's Degree          Computer Software                 Sales   \n",
       "4  Bachelor's Degree     Hospital & Health Care  Health Care Provider   \n",
       "\n",
       "   fraudulent  \n",
       "0           0  \n",
       "1           0  \n",
       "2           0  \n",
       "3           0  \n",
       "4           0  "
      ]
     },
     "execution_count": 121,
     "metadata": {},
     "output_type": "execute_result"
    }
   ],
   "source": [
    "fake.head()"
   ]
  },
  {
   "cell_type": "code",
   "execution_count": 122,
   "id": "67ff8aff",
   "metadata": {},
   "outputs": [
    {
     "data": {
      "text/plain": [
       "Index(['job_id', 'title', 'location', 'department', 'salary_range',\n",
       "       'company_profile', 'description', 'requirements', 'benefits',\n",
       "       'telecommuting', 'has_company_logo', 'has_questions', 'employment_type',\n",
       "       'required_experience', 'required_education', 'industry', 'function',\n",
       "       'fraudulent'],\n",
       "      dtype='object')"
      ]
     },
     "execution_count": 122,
     "metadata": {},
     "output_type": "execute_result"
    }
   ],
   "source": [
    "fake.columns"
   ]
  },
  {
   "cell_type": "code",
   "execution_count": 123,
   "id": "fa04be42",
   "metadata": {},
   "outputs": [],
   "source": [
    "#title , location,company_profile,description,requirements,benefits,telecommuting,has_company_logo,has_questions,employment_type\n",
    "#required_experience,required_education,"
   ]
  },
  {
   "cell_type": "code",
   "execution_count": 124,
   "id": "f4a481d5",
   "metadata": {},
   "outputs": [],
   "source": [
    "# now we will combine the required columns into one X column"
   ]
  },
  {
   "cell_type": "code",
   "execution_count": 125,
   "id": "1bb2037e",
   "metadata": {},
   "outputs": [],
   "source": [
    "df_fake = pd.DataFrame()"
   ]
  },
  {
   "cell_type": "code",
   "execution_count": 116,
   "id": "f8029cbb",
   "metadata": {},
   "outputs": [
    {
     "ename": "SyntaxError",
     "evalue": "invalid syntax (390759115.py, line 1)",
     "output_type": "error",
     "traceback": [
      "\u001b[1;36m  Input \u001b[1;32mIn [116]\u001b[1;36m\u001b[0m\n\u001b[1;33m    df_fake['X'] = fake['company_profile'].apply(str)+ '   ' + fake['required_education'].apply(str)+ '  ' + fake['salary_range'].apply(str)+ '  ' +fake['location'].apply(str)+'  ' +fake['telecommuting'].apply(str)+ '  '+\u001b[0m\n\u001b[1;37m                                                                                                                                                                                                                             ^\u001b[0m\n\u001b[1;31mSyntaxError\u001b[0m\u001b[1;31m:\u001b[0m invalid syntax\n"
     ]
    }
   ],
   "source": [
    "df_fake['X'] = fake['company_profile'].apply(str)+ '   ' + fake['required_education'].apply(str)+ '  ' + fake['salary_range'].apply(str)+ '  ' +fake['location'].apply(str)+'  ' +fake['telecommuting'].apply(str)+ '  '+\n",
    "               fake['title'].apply(str)+'  '+ fake['description'].apply(str)+'  '+fake['requirements'].apply(str)+' '+fake['benefits'].apply(str)+' '+fake['has_company_logo'].apply(str)+' '+fake['has_questions'].apply(str)+' '+\n",
    "               fake['employment_type'].apply(str)+' '+fake['required_experience'].apply(str)"
   ]
  },
  {
   "cell_type": "code",
   "execution_count": 126,
   "id": "2199a069",
   "metadata": {},
   "outputs": [],
   "source": [
    "df_fake['X'] = (\n",
    "    fake['company_profile'].apply(str) + ' ' + \n",
    "    fake['required_education'].apply(str) + ' ' + \n",
    "    fake['salary_range'].apply(str) + ' ' + \n",
    "    fake['location'].apply(str) + ' ' + \n",
    "    fake['telecommuting'].apply(str) + ' ' + \n",
    "    fake['title'].apply(str) + ' ' + \n",
    "    fake['description'].apply(str) + ' ' + \n",
    "    fake['requirements'].apply(str) + ' ' + \n",
    "    fake['benefits'].apply(str) + ' ' + \n",
    "    fake['has_company_logo'].apply(str) + ' ' + \n",
    "    fake['has_questions'].apply(str) + ' ' + \n",
    "    fake['employment_type'].apply(str) + ' ' + \n",
    "    fake['required_experience'].apply(str)\n",
    ")"
   ]
  },
  {
   "cell_type": "code",
   "execution_count": 127,
   "id": "3847a722",
   "metadata": {},
   "outputs": [
    {
     "data": {
      "text/html": [
       "<div>\n",
       "<style scoped>\n",
       "    .dataframe tbody tr th:only-of-type {\n",
       "        vertical-align: middle;\n",
       "    }\n",
       "\n",
       "    .dataframe tbody tr th {\n",
       "        vertical-align: top;\n",
       "    }\n",
       "\n",
       "    .dataframe thead th {\n",
       "        text-align: right;\n",
       "    }\n",
       "</style>\n",
       "<table border=\"1\" class=\"dataframe\">\n",
       "  <thead>\n",
       "    <tr style=\"text-align: right;\">\n",
       "      <th></th>\n",
       "      <th>X</th>\n",
       "    </tr>\n",
       "  </thead>\n",
       "  <tbody>\n",
       "    <tr>\n",
       "      <th>0</th>\n",
       "      <td>We're Food52, and we've created a groundbreaki...</td>\n",
       "    </tr>\n",
       "    <tr>\n",
       "      <th>1</th>\n",
       "      <td>90 Seconds, the worlds Cloud Video Production ...</td>\n",
       "    </tr>\n",
       "    <tr>\n",
       "      <th>2</th>\n",
       "      <td>Valor Services provides Workforce Solutions th...</td>\n",
       "    </tr>\n",
       "    <tr>\n",
       "      <th>3</th>\n",
       "      <td>Our passion for improving quality of life thro...</td>\n",
       "    </tr>\n",
       "    <tr>\n",
       "      <th>4</th>\n",
       "      <td>SpotSource Solutions LLC is a Global Human Cap...</td>\n",
       "    </tr>\n",
       "    <tr>\n",
       "      <th>...</th>\n",
       "      <td>...</td>\n",
       "    </tr>\n",
       "    <tr>\n",
       "      <th>17875</th>\n",
       "      <td>Vend is looking for some awesome new talent to...</td>\n",
       "    </tr>\n",
       "    <tr>\n",
       "      <th>17876</th>\n",
       "      <td>WebLinc is the e-commerce platform and service...</td>\n",
       "    </tr>\n",
       "    <tr>\n",
       "      <th>17877</th>\n",
       "      <td>We Provide Full Time Permanent Positions for m...</td>\n",
       "    </tr>\n",
       "    <tr>\n",
       "      <th>17878</th>\n",
       "      <td>nan Professional nan NG, LA, Lagos 0 Graphic D...</td>\n",
       "    </tr>\n",
       "    <tr>\n",
       "      <th>17879</th>\n",
       "      <td>Vend is looking for some awesome new talent to...</td>\n",
       "    </tr>\n",
       "  </tbody>\n",
       "</table>\n",
       "<p>17880 rows × 1 columns</p>\n",
       "</div>"
      ],
      "text/plain": [
       "                                                       X\n",
       "0      We're Food52, and we've created a groundbreaki...\n",
       "1      90 Seconds, the worlds Cloud Video Production ...\n",
       "2      Valor Services provides Workforce Solutions th...\n",
       "3      Our passion for improving quality of life thro...\n",
       "4      SpotSource Solutions LLC is a Global Human Cap...\n",
       "...                                                  ...\n",
       "17875  Vend is looking for some awesome new talent to...\n",
       "17876  WebLinc is the e-commerce platform and service...\n",
       "17877  We Provide Full Time Permanent Positions for m...\n",
       "17878  nan Professional nan NG, LA, Lagos 0 Graphic D...\n",
       "17879  Vend is looking for some awesome new talent to...\n",
       "\n",
       "[17880 rows x 1 columns]"
      ]
     },
     "execution_count": 127,
     "metadata": {},
     "output_type": "execute_result"
    }
   ],
   "source": [
    "df_fake"
   ]
  },
  {
   "cell_type": "code",
   "execution_count": 128,
   "id": "9a4dcb64",
   "metadata": {},
   "outputs": [],
   "source": [
    "df_fake['Y'] = fake['fraudulent']"
   ]
  },
  {
   "cell_type": "code",
   "execution_count": 129,
   "id": "66ae6142",
   "metadata": {},
   "outputs": [
    {
     "data": {
      "text/html": [
       "<div>\n",
       "<style scoped>\n",
       "    .dataframe tbody tr th:only-of-type {\n",
       "        vertical-align: middle;\n",
       "    }\n",
       "\n",
       "    .dataframe tbody tr th {\n",
       "        vertical-align: top;\n",
       "    }\n",
       "\n",
       "    .dataframe thead th {\n",
       "        text-align: right;\n",
       "    }\n",
       "</style>\n",
       "<table border=\"1\" class=\"dataframe\">\n",
       "  <thead>\n",
       "    <tr style=\"text-align: right;\">\n",
       "      <th></th>\n",
       "      <th>X</th>\n",
       "      <th>Y</th>\n",
       "    </tr>\n",
       "  </thead>\n",
       "  <tbody>\n",
       "    <tr>\n",
       "      <th>0</th>\n",
       "      <td>We're Food52, and we've created a groundbreaki...</td>\n",
       "      <td>0</td>\n",
       "    </tr>\n",
       "    <tr>\n",
       "      <th>1</th>\n",
       "      <td>90 Seconds, the worlds Cloud Video Production ...</td>\n",
       "      <td>0</td>\n",
       "    </tr>\n",
       "    <tr>\n",
       "      <th>2</th>\n",
       "      <td>Valor Services provides Workforce Solutions th...</td>\n",
       "      <td>0</td>\n",
       "    </tr>\n",
       "    <tr>\n",
       "      <th>3</th>\n",
       "      <td>Our passion for improving quality of life thro...</td>\n",
       "      <td>0</td>\n",
       "    </tr>\n",
       "    <tr>\n",
       "      <th>4</th>\n",
       "      <td>SpotSource Solutions LLC is a Global Human Cap...</td>\n",
       "      <td>0</td>\n",
       "    </tr>\n",
       "    <tr>\n",
       "      <th>...</th>\n",
       "      <td>...</td>\n",
       "      <td>...</td>\n",
       "    </tr>\n",
       "    <tr>\n",
       "      <th>17875</th>\n",
       "      <td>Vend is looking for some awesome new talent to...</td>\n",
       "      <td>0</td>\n",
       "    </tr>\n",
       "    <tr>\n",
       "      <th>17876</th>\n",
       "      <td>WebLinc is the e-commerce platform and service...</td>\n",
       "      <td>0</td>\n",
       "    </tr>\n",
       "    <tr>\n",
       "      <th>17877</th>\n",
       "      <td>We Provide Full Time Permanent Positions for m...</td>\n",
       "      <td>0</td>\n",
       "    </tr>\n",
       "    <tr>\n",
       "      <th>17878</th>\n",
       "      <td>nan Professional nan NG, LA, Lagos 0 Graphic D...</td>\n",
       "      <td>0</td>\n",
       "    </tr>\n",
       "    <tr>\n",
       "      <th>17879</th>\n",
       "      <td>Vend is looking for some awesome new talent to...</td>\n",
       "      <td>0</td>\n",
       "    </tr>\n",
       "  </tbody>\n",
       "</table>\n",
       "<p>17880 rows × 2 columns</p>\n",
       "</div>"
      ],
      "text/plain": [
       "                                                       X  Y\n",
       "0      We're Food52, and we've created a groundbreaki...  0\n",
       "1      90 Seconds, the worlds Cloud Video Production ...  0\n",
       "2      Valor Services provides Workforce Solutions th...  0\n",
       "3      Our passion for improving quality of life thro...  0\n",
       "4      SpotSource Solutions LLC is a Global Human Cap...  0\n",
       "...                                                  ... ..\n",
       "17875  Vend is looking for some awesome new talent to...  0\n",
       "17876  WebLinc is the e-commerce platform and service...  0\n",
       "17877  We Provide Full Time Permanent Positions for m...  0\n",
       "17878  nan Professional nan NG, LA, Lagos 0 Graphic D...  0\n",
       "17879  Vend is looking for some awesome new talent to...  0\n",
       "\n",
       "[17880 rows x 2 columns]"
      ]
     },
     "execution_count": 129,
     "metadata": {},
     "output_type": "execute_result"
    }
   ],
   "source": [
    "df_fake"
   ]
  },
  {
   "cell_type": "code",
   "execution_count": 130,
   "id": "bfa6879d",
   "metadata": {},
   "outputs": [
    {
     "data": {
      "text/plain": [
       "0    17014\n",
       "1      866\n",
       "Name: Y, dtype: int64"
      ]
     },
     "execution_count": 130,
     "metadata": {},
     "output_type": "execute_result"
    }
   ],
   "source": [
    "df_fake.Y.value_counts()   # 1 --- fraudulent job posting\n",
    "                           # 0 ---- non fraudulent job posting"
   ]
  },
  {
   "cell_type": "code",
   "execution_count": 131,
   "id": "a132fac8",
   "metadata": {},
   "outputs": [
    {
     "data": {
      "text/plain": [
       "X    0\n",
       "Y    0\n",
       "dtype: int64"
      ]
     },
     "execution_count": 131,
     "metadata": {},
     "output_type": "execute_result"
    }
   ],
   "source": [
    "df_fake.isnull().sum()"
   ]
  },
  {
   "cell_type": "code",
   "execution_count": 132,
   "id": "7ae3cf87",
   "metadata": {},
   "outputs": [
    {
     "data": {
      "text/html": [
       "<div>\n",
       "<style scoped>\n",
       "    .dataframe tbody tr th:only-of-type {\n",
       "        vertical-align: middle;\n",
       "    }\n",
       "\n",
       "    .dataframe tbody tr th {\n",
       "        vertical-align: top;\n",
       "    }\n",
       "\n",
       "    .dataframe thead th {\n",
       "        text-align: right;\n",
       "    }\n",
       "</style>\n",
       "<table border=\"1\" class=\"dataframe\">\n",
       "  <thead>\n",
       "    <tr style=\"text-align: right;\">\n",
       "      <th></th>\n",
       "      <th>X</th>\n",
       "      <th>Y</th>\n",
       "    </tr>\n",
       "  </thead>\n",
       "  <tbody>\n",
       "    <tr>\n",
       "      <th>0</th>\n",
       "      <td>we're food52, and we've created a groundbreaki...</td>\n",
       "      <td>0</td>\n",
       "    </tr>\n",
       "    <tr>\n",
       "      <th>1</th>\n",
       "      <td>90 seconds, the worlds cloud video production ...</td>\n",
       "      <td>0</td>\n",
       "    </tr>\n",
       "    <tr>\n",
       "      <th>2</th>\n",
       "      <td>valor services provides workforce solutions th...</td>\n",
       "      <td>0</td>\n",
       "    </tr>\n",
       "    <tr>\n",
       "      <th>3</th>\n",
       "      <td>our passion for improving quality of life thro...</td>\n",
       "      <td>0</td>\n",
       "    </tr>\n",
       "    <tr>\n",
       "      <th>4</th>\n",
       "      <td>spotsource solutions llc is a global human cap...</td>\n",
       "      <td>0</td>\n",
       "    </tr>\n",
       "    <tr>\n",
       "      <th>...</th>\n",
       "      <td>...</td>\n",
       "      <td>...</td>\n",
       "    </tr>\n",
       "    <tr>\n",
       "      <th>17875</th>\n",
       "      <td>vend is looking for some awesome new talent to...</td>\n",
       "      <td>0</td>\n",
       "    </tr>\n",
       "    <tr>\n",
       "      <th>17876</th>\n",
       "      <td>weblinc is the e-commerce platform and service...</td>\n",
       "      <td>0</td>\n",
       "    </tr>\n",
       "    <tr>\n",
       "      <th>17877</th>\n",
       "      <td>we provide full time permanent positions for m...</td>\n",
       "      <td>0</td>\n",
       "    </tr>\n",
       "    <tr>\n",
       "      <th>17878</th>\n",
       "      <td>nan professional nan ng, la, lagos 0 graphic d...</td>\n",
       "      <td>0</td>\n",
       "    </tr>\n",
       "    <tr>\n",
       "      <th>17879</th>\n",
       "      <td>vend is looking for some awesome new talent to...</td>\n",
       "      <td>0</td>\n",
       "    </tr>\n",
       "  </tbody>\n",
       "</table>\n",
       "<p>17880 rows × 2 columns</p>\n",
       "</div>"
      ],
      "text/plain": [
       "                                                       X  Y\n",
       "0      we're food52, and we've created a groundbreaki...  0\n",
       "1      90 seconds, the worlds cloud video production ...  0\n",
       "2      valor services provides workforce solutions th...  0\n",
       "3      our passion for improving quality of life thro...  0\n",
       "4      spotsource solutions llc is a global human cap...  0\n",
       "...                                                  ... ..\n",
       "17875  vend is looking for some awesome new talent to...  0\n",
       "17876  weblinc is the e-commerce platform and service...  0\n",
       "17877  we provide full time permanent positions for m...  0\n",
       "17878  nan professional nan ng, la, lagos 0 graphic d...  0\n",
       "17879  vend is looking for some awesome new talent to...  0\n",
       "\n",
       "[17880 rows x 2 columns]"
      ]
     },
     "execution_count": 132,
     "metadata": {},
     "output_type": "execute_result"
    }
   ],
   "source": [
    "# now lets convert text in lower case since python is a case sensitive language:-\n",
    "df_fake.X = df_fake.X.str.lower() # Mandtory\n",
    "df_fake"
   ]
  },
  {
   "cell_type": "code",
   "execution_count": 133,
   "id": "4c4398f4",
   "metadata": {},
   "outputs": [],
   "source": [
    "# check for stopwords:-"
   ]
  },
  {
   "cell_type": "code",
   "execution_count": 134,
   "id": "fe00261c",
   "metadata": {},
   "outputs": [],
   "source": [
    "import nltk # nltk - natural language toolkit"
   ]
  },
  {
   "cell_type": "code",
   "execution_count": 135,
   "id": "779c0e39",
   "metadata": {},
   "outputs": [],
   "source": [
    "from nltk.corpus import stopwords"
   ]
  },
  {
   "cell_type": "code",
   "execution_count": 136,
   "id": "b241ab88",
   "metadata": {},
   "outputs": [
    {
     "data": {
      "text/plain": [
       "'!\"#$%&\\'()*+,-./:;<=>?@[\\\\]^_`{|}~'"
      ]
     },
     "execution_count": 136,
     "metadata": {},
     "output_type": "execute_result"
    }
   ],
   "source": [
    "import string\n",
    "string.punctuation"
   ]
  },
  {
   "cell_type": "code",
   "execution_count": null,
   "id": "347e7e28",
   "metadata": {},
   "outputs": [],
   "source": []
  },
  {
   "cell_type": "code",
   "execution_count": 137,
   "id": "7235d3b4",
   "metadata": {},
   "outputs": [],
   "source": [
    "l1 = stopwords.words(\"english\")"
   ]
  },
  {
   "cell_type": "code",
   "execution_count": 138,
   "id": "34bbbca7",
   "metadata": {},
   "outputs": [],
   "source": [
    "# UDF code :-"
   ]
  },
  {
   "cell_type": "code",
   "execution_count": 139,
   "id": "46a168d0",
   "metadata": {},
   "outputs": [],
   "source": [
    "def text_process(mess):            ### creating a function\n",
    "\n",
    "    \"\"\"                                                        ## a docstring\n",
    "\n",
    "    1. remove the punctuation\n",
    "\n",
    "    2. remove the stopwords\n",
    "\n",
    "    3. return the list of clean textwords\n",
    "\n",
    "    \n",
    "\n",
    "    \"\"\"\n",
    "\n",
    "    nopunc = [char for char in mess if char not in string.punctuation]\n",
    "\n",
    "    nopunc = \"\".join(nopunc)\n",
    "\n",
    "    \n",
    "\n",
    "    return [ word for word in nopunc.split() if word not in l1]"
   ]
  },
  {
   "cell_type": "code",
   "execution_count": 140,
   "id": "56dff348",
   "metadata": {},
   "outputs": [],
   "source": [
    "from sklearn.feature_extraction.text import CountVectorizer"
   ]
  },
  {
   "cell_type": "code",
   "execution_count": 141,
   "id": "aa884494",
   "metadata": {},
   "outputs": [],
   "source": [
    "bow_transformer = CountVectorizer(analyzer = text_process).fit(df_fake[\"X\"])"
   ]
  },
  {
   "cell_type": "code",
   "execution_count": 142,
   "id": "49f7b0a5",
   "metadata": {},
   "outputs": [
    {
     "data": {
      "text/plain": [
       "{'food52': 60985,\n",
       " 'weve': 165559,\n",
       " 'created': 35142,\n",
       " 'groundbreaking': 65983,\n",
       " 'awardwinning': 16174,\n",
       " 'cooking': 33851,\n",
       " 'site': 137544,\n",
       " 'support': 146740,\n",
       " 'connect': 32268,\n",
       " 'celebrate': 24800,\n",
       " 'home': 69430,\n",
       " 'cooks': 33862,\n",
       " 'give': 64588,\n",
       " 'everything': 54776,\n",
       " 'need': 96100,\n",
       " 'one': 100495,\n",
       " 'placewe': 109181,\n",
       " 'top': 155073,\n",
       " 'editorial': 47699,\n",
       " 'business': 21786,\n",
       " 'engineering': 50389,\n",
       " 'team': 149340,\n",
       " 'focused': 60530,\n",
       " 'using': 161244,\n",
       " 'technology': 151034,\n",
       " 'find': 59551,\n",
       " 'new': 97282,\n",
       " 'better': 18844,\n",
       " 'ways': 164296,\n",
       " 'people': 106592,\n",
       " 'around': 13406,\n",
       " 'specific': 141442,\n",
       " 'food': 60983,\n",
       " 'interests': 76355,\n",
       " 'offer': 99324,\n",
       " 'superb': 146299,\n",
       " 'highly': 68868,\n",
       " 'curated': 36360,\n",
       " 'information': 74175,\n",
       " 'attract': 15239,\n",
       " 'talented': 148518,\n",
       " 'contributors': 33520,\n",
       " 'country': 34618,\n",
       " 'also': 9156,\n",
       " 'publish': 120132,\n",
       " 'wellknown': 165376,\n",
       " 'professionals': 117345,\n",
       " 'like': 84206,\n",
       " 'mario': 88549,\n",
       " 'batali': 17561,\n",
       " 'gwyneth': 66927,\n",
       " 'paltrow': 104917,\n",
       " 'danny': 37426,\n",
       " 'meyer': 91947,\n",
       " 'partnerships': 105485,\n",
       " 'whole': 165748,\n",
       " 'foods': 61024,\n",
       " 'market': 88568,\n",
       " 'random': 122024,\n",
       " 'housefood52': 70090,\n",
       " 'named': 95443,\n",
       " 'best': 18731,\n",
       " 'website': 164665,\n",
       " 'james': 78743,\n",
       " 'beard': 17749,\n",
       " 'foundation': 61815,\n",
       " 'iacp': 70893,\n",
       " 'featured': 58516,\n",
       " 'york': 168770,\n",
       " 'times': 153863,\n",
       " 'npr': 98361,\n",
       " 'pando': 104958,\n",
       " 'daily': 37287,\n",
       " 'techcrunch': 150460,\n",
       " 'today': 154294,\n",
       " 'showwere': 136972,\n",
       " 'located': 85045,\n",
       " 'chelsea': 26299,\n",
       " 'city': 26836,\n",
       " 'nan': 95472,\n",
       " 'us': 160655,\n",
       " 'ny': 98601,\n",
       " '0': 0,\n",
       " 'marketing': 88664,\n",
       " 'intern': 76523,\n",
       " 'fastgrowing': 58315,\n",
       " 'online': 100673,\n",
       " 'community': 29908,\n",
       " 'crowdsourced': 35768,\n",
       " 'recipe': 122733,\n",
       " 'hub': 70520,\n",
       " 'currently': 36425,\n",
       " 'interviewing': 76903,\n",
       " 'full': 62719,\n",
       " 'parttime': 105670,\n",
       " 'unpaid': 158396,\n",
       " 'interns': 76713,\n",
       " 'work': 166687,\n",
       " 'small': 139298,\n",
       " 'editors': 47716,\n",
       " 'executives': 55401,\n",
       " 'developers': 42461,\n",
       " 'headquartersreproducing': 68100,\n",
       " 'andor': 10206,\n",
       " 'repackaging': 124910,\n",
       " 'existing': 55566,\n",
       " 'content': 33023,\n",
       " 'number': 98451,\n",
       " 'partner': 105386,\n",
       " 'sites': 137619,\n",
       " 'huffington': 70567,\n",
       " 'post': 112349,\n",
       " 'yahoo': 168332,\n",
       " 'buzzfeed': 22323,\n",
       " 'various': 162051,\n",
       " 'management': 86843,\n",
       " 'systemsresearching': 148035,\n",
       " 'blogs': 19568,\n",
       " 'websites': 164713,\n",
       " 'provisions': 119822,\n",
       " 'affiliate': 7919,\n",
       " 'programassisting': 117680,\n",
       " 'daytoday': 38398,\n",
       " 'program': 117661,\n",
       " 'screening': 133444,\n",
       " 'affiliates': 7923,\n",
       " 'assisting': 14522,\n",
       " 'inquiriessupporting': 75148,\n",
       " 'pr': 112896,\n",
       " 'amp': 9469,\n",
       " 'events': 54493,\n",
       " 'neededhelping': 96248,\n",
       " 'office': 99564,\n",
       " 'administrative': 7100,\n",
       " 'filing': 59335,\n",
       " 'mailing': 86352,\n",
       " 'preparing': 114006,\n",
       " 'meetingsworking': 90753,\n",
       " 'document': 45220,\n",
       " 'bugs': 21483,\n",
       " 'suggest': 145981,\n",
       " 'improvements': 72267,\n",
       " 'sitesupporting': 137707,\n",
       " 'executive': 55372,\n",
       " 'staff': 142506,\n",
       " 'experience': 55915,\n",
       " 'systems': 147696,\n",
       " 'major': 86602,\n",
       " 'plus': 110505,\n",
       " 'blogging': 19556,\n",
       " 'countsfamiliar': 34661,\n",
       " 'voice': 163468,\n",
       " 'aestheticloves': 7875,\n",
       " 'appreciates': 11967,\n",
       " 'importance': 72085,\n",
       " 'seasonsmeticulous': 133890,\n",
       " 'editor': 47690,\n",
       " 'perfectionist': 106846,\n",
       " 'obsessive': 99048,\n",
       " 'attention': 14995,\n",
       " 'detail': 41912,\n",
       " 'maddened': 86192,\n",
       " 'typos': 157443,\n",
       " 'broken': 21047,\n",
       " 'links': 84482,\n",
       " 'delighted': 39595,\n",
       " 'finding': 59555,\n",
       " 'fixing': 59961,\n",
       " 'themcheerful': 152520,\n",
       " 'pressureexcellent': 114381,\n",
       " 'communication': 29581,\n",
       " 'skillsa': 138018,\n",
       " 'multitasker': 94847,\n",
       " 'juggler': 80103,\n",
       " 'responsibilities': 127875,\n",
       " 'big': 19089,\n",
       " 'smallinterested': 139316,\n",
       " 'engaged': 50200,\n",
       " 'social': 139652,\n",
       " 'media': 90244,\n",
       " 'twitter': 157247,\n",
       " 'facebook': 57619,\n",
       " 'pinterestloves': 108873,\n",
       " 'problemsolving': 115230,\n",
       " 'collaborating': 28869,\n",
       " 'drive': 46395,\n",
       " 'forwardthinks': 61766,\n",
       " 'picture': 108730,\n",
       " 'pitches': 109021,\n",
       " 'nitty': 97642,\n",
       " 'gritty': 65931,\n",
       " 'running': 131142,\n",
       " 'company': 30191,\n",
       " 'dishes': 44673,\n",
       " 'shopping': 136787,\n",
       " 'supportcomfortable': 146783,\n",
       " 'realities': 122435,\n",
       " 'working': 166997,\n",
       " 'startup': 143342,\n",
       " 'call': 22700,\n",
       " 'evenings': 54443,\n",
       " 'weekends': 164972,\n",
       " 'long': 85479,\n",
       " 'hours': 69873,\n",
       " '1': 132,\n",
       " 'internship': 76718,\n",
       " '90': 4272,\n",
       " 'seconds': 133935,\n",
       " 'worlds': 167518,\n",
       " 'cloud': 28050,\n",
       " 'video': 162786,\n",
       " 'production': 116501,\n",
       " 'service90': 135199,\n",
       " 'service': 135195,\n",
       " 'enabling': 49923,\n",
       " 'brands': 20626,\n",
       " 'agencies': 8069,\n",
       " 'get': 64326,\n",
       " 'high': 68760,\n",
       " 'quality': 121072,\n",
       " 'shot': 136882,\n",
       " 'produced': 116340,\n",
       " 'anywhere': 10766,\n",
       " 'world': 167402,\n",
       " 'makes': 86681,\n",
       " 'fast': 58277,\n",
       " 'affordable': 7955,\n",
       " 'managed': 86827,\n",
       " 'seamlessly': 133799,\n",
       " 'purchase': 120285,\n",
       " 'http90urlfbe6559afac620a3cd2c22281f7b8d0eef56a73e3d9a311e2f1ca13d081dd63090': 70472,\n",
       " 'removes': 124791,\n",
       " 'hassle': 67684,\n",
       " 'cost': 34357,\n",
       " 'risk': 129842,\n",
       " 'speed': 141678,\n",
       " 'issues': 77923,\n",
       " 'regular': 123850,\n",
       " 'companies': 30063,\n",
       " 'managing': 87877,\n",
       " 'every': 54744,\n",
       " 'aspect': 13829,\n",
       " 'projects': 118446,\n",
       " 'beautiful': 17773,\n",
       " 'growing': 66182,\n",
       " 'global': 64697,\n",
       " 'network': 97056,\n",
       " '2000': 1353,\n",
       " 'rated': 122138,\n",
       " '50': 3186,\n",
       " 'countries': 34584,\n",
       " 'dedicated': 39196,\n",
       " 'success': 145708,\n",
       " 'teams': 149958,\n",
       " '5': 3185,\n",
       " 'provides': 119798,\n",
       " '100': 134,\n",
       " 'guarantee90': 66592,\n",
       " 'almost': 9074,\n",
       " '4000': 2799,\n",
       " 'videos': 162827,\n",
       " '30': 2269,\n",
       " '500': 3187,\n",
       " 'including': 72978,\n",
       " 'largest': 82013,\n",
       " 'paypal': 106255,\n",
       " 'l’oreal': 86039,\n",
       " 'sony': 140779,\n",
       " 'barclays': 17067,\n",
       " 'offices': 99793,\n",
       " 'auckland': 15349,\n",
       " 'london': 85395,\n",
       " 'sydney': 147388,\n",
       " 'tokyo': 154489,\n",
       " 'singaporehttp90urlfbe6559afac620a3cd2c22281f7b8d0eef56a73e3d9a311e2f1ca13d081dd630': 137465,\n",
       " 'http90urle2ad0bde3f09a0913a486abdbb1e6ac373bb3310f64b1fbcf550049bcba4a17b': 70469,\n",
       " 'http90url8c5dd1806f97ab90876d9daebeb430f682dbc87e2f01549b47e96c7bff2ea17e': 70467,\n",
       " 'nz': 98667,\n",
       " 'customer': 36481,\n",
       " 'organised': 102620,\n",
       " 'vibrant': 162751,\n",
       " 'awesomedo': 16243,\n",
       " 'passion': 105743,\n",
       " 'slick': 139219,\n",
       " 'typing': 157414,\n",
       " 'skills': 137982,\n",
       " 'maybe': 89918,\n",
       " 'account': 5308,\n",
       " 'think': 152986,\n",
       " 'administration': 6955,\n",
       " 'cooler': 33871,\n",
       " 'polar': 111271,\n",
       " 'bear': 17747,\n",
       " 'jetski': 79266,\n",
       " 'hear': 68244,\n",
       " 'opperating': 101571,\n",
       " 'glodal': 64798,\n",
       " 'level': 83376,\n",
       " 'yeah': 168374,\n",
       " 'pretty': 114476,\n",
       " 'cool': 33868,\n",
       " 'serious': 134973,\n",
       " 'delivering': 39765,\n",
       " 'class': 26986,\n",
       " 'product': 116376,\n",
       " 'excellent': 55089,\n",
       " 'serviceour': 135375,\n",
       " 'rapidly': 122077,\n",
       " 'expanding': 55611,\n",
       " 'looking': 85542,\n",
       " 'project': 118283,\n",
       " 'manager': 87451,\n",
       " 'manage': 86821,\n",
       " 'successful': 145778,\n",
       " 'delivery': 39784,\n",
       " 'client': 27265,\n",
       " 'communications': 29675,\n",
       " 'process': 115618,\n",
       " 'coolest': 33874,\n",
       " 'planet': 109279,\n",
       " 'learn': 82817,\n",
       " 'representing': 125575,\n",
       " 'huge': 70572,\n",
       " 'waywe': 164337,\n",
       " 'entering': 51170,\n",
       " 'next': 97430,\n",
       " 'growth': 66241,\n",
       " 'stage': 142716,\n",
       " 'quickly': 121516,\n",
       " 'internationally': 76578,\n",
       " 'therefore': 152791,\n",
       " 'position': 111810,\n",
       " 'bursting': 21768,\n",
       " 'opportunity': 101840,\n",
       " 'right': 129748,\n",
       " 'person': 107427,\n",
       " 'time': 153497,\n",
       " 'guaranteeing': 66601,\n",
       " 'easy': 47315,\n",
       " 'commissioning': 29410,\n",
       " 'quick': 121490,\n",
       " 'google': 65320,\n",
       " 'adwords': 7790,\n",
       " 'campaign90': 22944,\n",
       " 'loreal': 85577,\n",
       " 'singaporeour': 137467,\n",
       " 'based': 17181,\n",
       " 'heart': 68252,\n",
       " 'wynyard': 168070,\n",
       " 'quarter': 121266,\n",
       " 'innovation': 74929,\n",
       " 'precinct': 113305,\n",
       " 'gridakl': 65902,\n",
       " 'expect': 55657,\n",
       " 'youyour': 169210,\n",
       " 'key': 80510,\n",
       " 'responsibility': 128438,\n",
       " 'communicate': 29555,\n",
       " 'freelance': 62293,\n",
       " 'throughout': 153291,\n",
       " 'shoot': 136733,\n",
       " 'planning': 109360,\n",
       " 'securing': 134103,\n",
       " 'talent': 148502,\n",
       " 'workflow': 166885,\n",
       " 'system': 147502,\n",
       " 'aim': 8537,\n",
       " 'effectively': 47945,\n",
       " 'produce': 116334,\n",
       " 'great': 65754,\n",
       " 'clients': 27418,\n",
       " 'lovekey': 85669,\n",
       " 'attributesclient': 15270,\n",
       " 'skillsonline': 138655,\n",
       " 'oustanding': 103614,\n",
       " 'computer': 31446,\n",
       " 'knowledge': 80914,\n",
       " 'software': 139786,\n",
       " 'toolsorganised': 154892,\n",
       " 'workload': 167064,\n",
       " 'able': 4823,\n",
       " 'multitask100': 94828,\n",
       " 'detailmotivated': 42023,\n",
       " 'selfstarter': 134565,\n",
       " 'achieving': 6005,\n",
       " 'resultsadaptable': 128727,\n",
       " 'show': 136918,\n",
       " 'initiative': 74628,\n",
       " 'feet': 58810,\n",
       " 'constantly': 32572,\n",
       " 'evolving': 54848,\n",
       " 'atmosphereflexible': 14871,\n",
       " 'turnaround': 157119,\n",
       " 'availabilityeasy': 15928,\n",
       " 'going': 65190,\n",
       " 'upbeat': 158531,\n",
       " 'dosent': 46028,\n",
       " 'bogged': 19798,\n",
       " 'loves': 85688,\n",
       " 'challengesense': 25441,\n",
       " 'humour': 70658,\n",
       " 'laugh': 82101,\n",
       " 'know': 80876,\n",
       " 'takes': 148466,\n",
       " 'gutsability': 66907,\n",
       " 'deliver': 39619,\n",
       " 'meeting': 90585,\n",
       " 'deadlines': 38572,\n",
       " 'budgetattitude': 21278,\n",
       " 'important': 72097,\n",
       " 'however': 70157,\n",
       " 'previous': 114501,\n",
       " 'beneficialplease': 18299,\n",
       " 'view': 162878,\n",
       " 'platform': 109799,\n",
       " 'url395a8683a907ce95f49a12fb240e6e47ad8d5a4f96d07ebbd869c4dd4dea1826': 159299,\n",
       " 'clear': 27120,\n",
       " 'understand': 157923,\n",
       " 'reaching': 122327,\n",
       " 'usthrough': 161356,\n",
       " 'part': 105257,\n",
       " 'gainexperience': 63528,\n",
       " 'international': 76564,\n",
       " 'brandexperience': 20569,\n",
       " 'variety': 162047,\n",
       " 'large': 81994,\n",
       " 'range': 122029,\n",
       " 'projectsopportunity': 118736,\n",
       " 'grow': 66154,\n",
       " 'function': 62824,\n",
       " 'teama': 149347,\n",
       " 'positive': 112183,\n",
       " 'environment': 51494,\n",
       " 'teampay4000055000applying': 149815,\n",
       " 'role': 130217,\n",
       " 'videobeing': 162792,\n",
       " 'quickest': 121514,\n",
       " 'assess': 13933,\n",
       " 'suitability': 146010,\n",
       " 'apply': 11757,\n",
       " 'submit': 145499,\n",
       " '6090': 3613,\n",
       " 'second': 133918,\n",
       " 'telling': 151511,\n",
       " 'would': 167669,\n",
       " 'perfect': 106838,\n",
       " 'it’s': 78624,\n",
       " 'filmmaker': 59382,\n",
       " 'making': 86694,\n",
       " 'really': 122481,\n",
       " 'creative': 35227,\n",
       " 'simple': 137317,\n",
       " 'filmed': 59378,\n",
       " 'smart': 139338,\n",
       " 'phone': 108100,\n",
       " 'web': 164440,\n",
       " 'cam': 22909,\n",
       " 'fine': 59581,\n",
       " 'please': 110377,\n",
       " 'include': 72564,\n",
       " 'startyou': 143531,\n",
       " 'upload': 158703,\n",
       " 'onto': 100911,\n",
       " 'youtube': 169164,\n",
       " 'vimeo': 162962,\n",
       " 'similar': 137225,\n",
       " 'draft': 46223,\n",
       " 'live': 84801,\n",
       " 'linkapplications': 84452,\n",
       " 'due': 46734,\n",
       " '5pm': 3515,\n",
       " 'wednesday': 164905,\n",
       " '18th': 1141,\n",
       " 'july': 80117,\n",
       " '2014': 1612,\n",
       " 'ready': 122396,\n",
       " 'via': 162734,\n",
       " 'following': 60677,\n",
       " 'link': 84447,\n",
       " 'together': 154411,\n",
       " 'cover': 34790,\n",
       " 'letter': 83331,\n",
       " 'cv': 37009,\n",
       " 'watched': 164168,\n",
       " 'idea': 70994,\n",
       " 'email': 48840,\n",
       " 'shortlisted': 136862,\n",
       " 'candidates': 23353,\n",
       " 'fulltime': 62753,\n",
       " 'applicable': 11171,\n",
       " 'valor': 161783,\n",
       " 'services': 135426,\n",
       " 'workforce': 166945,\n",
       " 'solutions': 140222,\n",
       " 'meet': 90582,\n",
       " 'needs': 96475,\n",
       " 'across': 6122,\n",
       " 'private': 114958,\n",
       " 'sector': 133986,\n",
       " 'special': 141333,\n",
       " 'focus': 60506,\n",
       " 'oil': 100170,\n",
       " 'gas': 63747,\n",
       " 'industry': 73743,\n",
       " 'involved': 77395,\n",
       " 'step': 143897,\n",
       " 'hiring': 69089,\n",
       " 'remain': 124689,\n",
       " 'contact': 32906,\n",
       " 'way': 164234,\n",
       " 'final': 59408,\n",
       " 'signing': 137164,\n",
       " 'employment': 49792,\n",
       " 'contract': 33271,\n",
       " 'employer': 49732,\n",
       " 'founded': 61842,\n",
       " 'vision': 163093,\n",
       " 'employing': 49791,\n",
       " 'unique': 158136,\n",
       " 'experiences': 56642,\n",
       " 'qualities': 121036,\n",
       " 'america’s': 9421,\n",
       " 'finest': 59593,\n",
       " 'veterans': 162704,\n",
       " 'provide': 119624,\n",
       " 'precise': 113310,\n",
       " 'concerted': 31746,\n",
       " 'valueadded': 161802,\n",
       " '–': 172572,\n",
       " 'optimized': 102114,\n",
       " 'career': 23948,\n",
       " 'opportunitywe': 101923,\n",
       " 'eager': 47159,\n",
       " 'word': 166567,\n",
       " 'ample': 9478,\n",
       " 'opportunities': 101580,\n",
       " 'ideal': 71004,\n",
       " 'fill': 59368,\n",
       " 'positions': 112038,\n",
       " 'mission': 92735,\n",
       " '™': 173777,\n",
       " 'ia': 70883,\n",
       " 'wever': 165561,\n",
       " 'machinery': 86112,\n",
       " 'assistant': 14442,\n",
       " 'cma': 28188,\n",
       " 'houston': 70140,\n",
       " 'actively': 6300,\n",
       " 'seeking': 134214,\n",
       " 'experienced': 56152,\n",
       " 'possesses': 112220,\n",
       " 'strong': 144895,\n",
       " 'supervisory': 146567,\n",
       " 'dedication': 39204,\n",
       " 'safety': 131373,\n",
       " 'must': 95009,\n",
       " 'candidate': 23298,\n",
       " 'execute': 55255,\n",
       " 'activities': 6319,\n",
       " 'complying': 31264,\n",
       " 'requirements': 126560,\n",
       " 'health': 68132,\n",
       " 'environmental': 51530,\n",
       " 'regulations': 123888,\n",
       " 'implement': 71866,\n",
       " 'precommissioning': 113323,\n",
       " 'procedures': 115350,\n",
       " 'rotary': 130784,\n",
       " 'equipmentexecute': 52525,\n",
       " 'subcontractor’s': 145411,\n",
       " 'assigned': 14168,\n",
       " 'crew': 35405,\n",
       " 'pertains': 107843,\n",
       " 'disciplineensure': 44404,\n",
       " 'effective': 47936,\n",
       " 'utilization': 161461,\n",
       " 'manpower': 88287,\n",
       " 'consumablesensure': 32827,\n",
       " 'execution': 55279,\n",
       " 'vendor': 162266,\n",
       " 'specialists': 141378,\n",
       " 'field': 58980,\n",
       " 'resources': 127645,\n",
       " 'subcontractor': 145401,\n",
       " 'per': 106800,\n",
       " 'vendor’s': 162368,\n",
       " 'representative': 125498,\n",
       " 'planscarry': 109546,\n",
       " 'equipment': 52474,\n",
       " 'inspections': 75340,\n",
       " 'representatives': 125530,\n",
       " 'ensure': 51142,\n",
       " 'proper': 119108,\n",
       " 'certification': 25111,\n",
       " 'producedprepare': 116342,\n",
       " 'forms': 61509,\n",
       " 'pending': 106543,\n",
       " 'tests': 152186,\n",
       " 'signed': 137144,\n",
       " 'certificates': 25099,\n",
       " 'hand': 67207,\n",
       " 'engineer': 50343,\n",
       " 'qa': 120571,\n",
       " 'qccoordinate': 120627,\n",
       " 'representativeskeep': 125542,\n",
       " 'records': 123052,\n",
       " 'activitiesensure': 6378,\n",
       " 'practices': 112952,\n",
       " 'strictly': 144862,\n",
       " 'followed': 60649,\n",
       " 'activitiesreport': 6481,\n",
       " 'progress': 118191,\n",
       " 'constraints': 32597,\n",
       " 'mechanical': 90196,\n",
       " 'supervisorpossible': 146536,\n",
       " 'authorization': 15733,\n",
       " 'receive': 122640,\n",
       " 'issue': 77907,\n",
       " 'permit': 107360,\n",
       " 'according': 5260,\n",
       " 'proceduresassist': 115380,\n",
       " 'supervisor': 146495,\n",
       " 'expedite': 55818,\n",
       " 'punchlist': 120227,\n",
       " 'items': 78351,\n",
       " 'accordance': 5259,\n",
       " 'manager’s': 87868,\n",
       " 'prioritiesassist': 114806,\n",
       " 'coordinate': 33921,\n",
       " 'supervise': 146373,\n",
       " 'constructionsupport': 32670,\n",
       " 'activitiescompany': 6358,\n",
       " 'overviewour': 104209,\n",
       " 'premiere': 113910,\n",
       " 'construction': 32641,\n",
       " 'procurement': 116309,\n",
       " 'executes': 55275,\n",
       " 'largescale': 82010,\n",
       " 'improving': 72371,\n",
       " 'life': 83957,\n",
       " 'geography': 64205,\n",
       " 'esri’s': 53121,\n",
       " 'geographic': 64191,\n",
       " 'gis': 64488,\n",
       " 'inspires': 75377,\n",
       " 'enables': 49922,\n",
       " 'governments': 65427,\n",
       " 'universities': 158244,\n",
       " 'businesses': 21885,\n",
       " 'worldwide': 167563,\n",
       " 'save': 132423,\n",
       " 'money': 93510,\n",
       " 'lives': 84830,\n",
       " 'deeper': 39242,\n",
       " 'understanding': 157932,\n",
       " 'changing': 25725,\n",
       " 'themcarefully': 152518,\n",
       " 'zero': 169386,\n",
       " 'debt': 38900,\n",
       " 'esri': 53118,\n",
       " 'stability': 142405,\n",
       " 'uncommon': 157847,\n",
       " 'todays': 154326,\n",
       " 'volatile': 163524,\n",
       " 'privately': 114960,\n",
       " 'held': 68337,\n",
       " 'exceptional': 55157,\n",
       " 'benefits': 18348,\n",
       " 'competitive': 30911,\n",
       " 'salaries': 131450,\n",
       " '401k': 2851,\n",
       " 'profitsharing': 117641,\n",
       " 'programs': 117975,\n",
       " 'personal': 107453,\n",
       " 'professional': 117229,\n",
       " 'much': 94637,\n",
       " 'bachelors': 16451,\n",
       " 'degree': 39380,\n",
       " 'dc': 38497,\n",
       " 'washington': 164138,\n",
       " 'research': 127246,\n",
       " 'instituteour': 75513,\n",
       " 'morethe': 94119,\n",
       " 'executiveas': 55376,\n",
       " 'member': 90818,\n",
       " 'sales': 131654,\n",
       " 'division': 44984,\n",
       " 'collaboratively': 28916,\n",
       " 'order': 102383,\n",
       " 'sell': 134627,\n",
       " 'promote': 118989,\n",
       " 'adoption': 7241,\n",
       " 'arcgis': 12584,\n",
       " 'within': 166343,\n",
       " 'organization': 102653,\n",
       " 'responsible': 128534,\n",
       " 'facilitating': 57692,\n",
       " 'development': 42627,\n",
       " 'set': 135976,\n",
       " 'strategies': 144395,\n",
       " 'defined': 39321,\n",
       " 'portfolio': 111666,\n",
       " 'accounts': 5551,\n",
       " 'executing': 55278,\n",
       " 'utilize': 161475,\n",
       " 'enterprise': 51176,\n",
       " 'help': 68369,\n",
       " 'customers': 36567,\n",
       " 'leverage': 83653,\n",
       " 'geospatial': 64246,\n",
       " 'achieve': 5941,\n",
       " 'goals': 64895,\n",
       " 'specifically…prospect': 141468,\n",
       " 'develop': 42335,\n",
       " 'stakeholders': 142787,\n",
       " 'envision': 52316,\n",
       " 'location': 85050,\n",
       " 'strategy': 144571,\n",
       " 'organizationclearly': 102697,\n",
       " 'articulate': 13548,\n",
       " 'strength': 144814,\n",
       " 'value': 161797,\n",
       " 'proposition': 119250,\n",
       " 'platformdevelop': 109844,\n",
       " 'maintain': 86426,\n",
       " 'healthy': 68231,\n",
       " 'pipeline': 108899,\n",
       " 'growthdemonstrate': 66285,\n",
       " 'thoughtful': 153183,\n",
       " 'insightful': 75231,\n",
       " 'applies': 11749,\n",
       " 'initiatives': 74667,\n",
       " 'trends': 156532,\n",
       " 'triggersunderstand': 156730,\n",
       " 'drivers': 46488,\n",
       " 'identify': 71217,\n",
       " 'stakeholdersunderstand': 142900,\n",
       " 'customers’': 36924,\n",
       " 'budgeting': 21318,\n",
       " 'acquisition': 6063,\n",
       " 'processessuccessfully': 115940,\n",
       " 'prioritization': 114896,\n",
       " 'resourcing': 127775,\n",
       " 'planningsuccessfully': 109452,\n",
       " 'opportunitiesleverage': 101719,\n",
       " 'lead': 82436,\n",
       " 'consisting': 32543,\n",
       " 'crossdivisional': 35688,\n",
       " 'define': 39320,\n",
       " 'strategyeffectively': 144620,\n",
       " 'crm': 35553,\n",
       " 'buying': 22291,\n",
       " 'processpursue': 116204,\n",
       " 'real': 122419,\n",
       " 'estate': 53319,\n",
       " 'industryleverage': 73865,\n",
       " 'successfully': 145794,\n",
       " 'prospect': 119310,\n",
       " 'build': 21506,\n",
       " 'networkparticipate': 97149,\n",
       " 'trade': 155577,\n",
       " 'shows': 136955,\n",
       " 'workshops': 167246,\n",
       " 'seminars': 134715,\n",
       " 'requiredsupport': 126416,\n",
       " 'visual': 163303,\n",
       " 'story': 144272,\n",
       " 'whiteboard': 165701,\n",
       " 'sessionsbe': 135944,\n",
       " 'resourceful': 127610,\n",
       " 'resolve': 127566,\n",
       " 'education': 47758,\n",
       " 'bachelor’s': 16461,\n",
       " 'master’s': 89387,\n",
       " 'related': 124120,\n",
       " 'equivalent': 52716,\n",
       " 'depending': 40477,\n",
       " 'levelexperience': 83430,\n",
       " 'years': 168485,\n",
       " 'providing': 119803,\n",
       " 'businessesdemonstrated': 21904,\n",
       " 'cycle': 37088,\n",
       " 'prospecting': 119319,\n",
       " 'proposing': 119249,\n",
       " 'closingability': 27995,\n",
       " 'adapt': 6695,\n",
       " 'translate': 156193,\n",
       " 'address': 6793,\n",
       " 'needsdemonstrated': 96544,\n",
       " 'advocacy': 7766,\n",
       " 'customersexcellent': 36679,\n",
       " 'presentation': 114153,\n",
       " 'white': 165700,\n",
       " 'boarding': 19708,\n",
       " 'negotiation': 96820,\n",
       " 'good': 65253,\n",
       " 'listening': 84667,\n",
       " 'probing': 115052,\n",
       " 'qualification': 120726,\n",
       " 'abilitiesexperience': 4699,\n",
       " 'insight': 75219,\n",
       " 'selling': 134647,\n",
       " 'methodologiesdemonstrated': 91547,\n",
       " 'mitigation': 92815,\n",
       " 'threatsexcellent': 153221,\n",
       " 'written': 167894,\n",
       " 'verbal': 162446,\n",
       " 'interpersonal': 76779,\n",
       " 'skillsability': 138021,\n",
       " 'prioritize': 114909,\n",
       " 'activitiesdemonstrated': 6369,\n",
       " 'engagements': 50260,\n",
       " 'industryknowledge': 73861,\n",
       " 'fiscal': 59848,\n",
       " 'year': 168375,\n",
       " 'cyclehighly': 37118,\n",
       " 'motivated': 94234,\n",
       " 'player': 110180,\n",
       " 'mature': 89838,\n",
       " 'attitude': 15037,\n",
       " 'challenges': 25410,\n",
       " 'businessability': 21794,\n",
       " 'travel': 156333,\n",
       " 'domestically': 45804,\n",
       " '50general': 3291,\n",
       " 'spatial': 141247,\n",
       " 'analysis': 9587,\n",
       " 'problem': 115054,\n",
       " 'solvingresults': 140698,\n",
       " 'oriented': 103072,\n",
       " 'ability': 4751,\n",
       " 'write': 167742,\n",
       " 'craft': 35057,\n",
       " 'attainable': 14949,\n",
       " 'realistic': 122431,\n",
       " 'timedriven': 153576,\n",
       " 'indicators': 73470,\n",
       " 'culture': 36199,\n",
       " 'anything': 10748,\n",
       " 'corporate—we': 34210,\n",
       " 'collaborative': 28911,\n",
       " 'directories': 44135,\n",
       " 'organized': 102936,\n",
       " 'first': 59803,\n",
       " 'name': 95439,\n",
       " 'relaxed': 124451,\n",
       " 'dress': 46331,\n",
       " 'code': 28444,\n",
       " 'opendoor': 101052,\n",
       " 'policiesa': 111282,\n",
       " 'place': 109100,\n",
       " 'thrivepassionate': 153262,\n",
       " 'strive': 144885,\n",
       " 'make': 86623,\n",
       " 'differencecasual': 43664,\n",
       " 'codeflexible': 28521,\n",
       " 'schedulessupport': 132935,\n",
       " 'continuing': 33243,\n",
       " 'educationcollegelike': 47795,\n",
       " 'campusa': 23210,\n",
       " 'buildings': 21579,\n",
       " 'amid': 9440,\n",
       " 'lush': 85976,\n",
       " 'landscaping': 81694,\n",
       " 'numerous': 98500,\n",
       " 'outdoor': 103714,\n",
       " 'patio': 105943,\n",
       " 'areasonsite': 13057,\n",
       " 'café': 22541,\n",
       " 'starbucks': 143262,\n",
       " 'coffee': 28736,\n",
       " 'bar': 17042,\n",
       " 'lounge': 85640,\n",
       " 'areafitness': 12908,\n",
       " 'center': 24844,\n",
       " 'available': 15954,\n",
       " '247comprehensive': 1954,\n",
       " 'reference': 123509,\n",
       " 'library': 83787,\n",
       " 'bibliographystateoftheart': 19033,\n",
       " 'conference': 31943,\n",
       " 'host': 69746,\n",
       " 'guest': 66627,\n",
       " 'speakers': 141282,\n",
       " 'green': 65846,\n",
       " 'initiativessolar': 74788,\n",
       " 'rooftop': 130686,\n",
       " 'panels': 104969,\n",
       " 'reduce': 123431,\n",
       " 'carbon': 23847,\n",
       " 'emissionselectric': 49484,\n",
       " 'vehicles': 162205,\n",
       " 'oncampus': 100423,\n",
       " 'transportationhundreds': 156266,\n",
       " 'trees': 156509,\n",
       " 'cooling': 33877,\n",
       " 'midsenior': 92198,\n",
       " 'spotsource': 142012,\n",
       " 'llc': 84879,\n",
       " 'human': 70587,\n",
       " 'capital': 23751,\n",
       " 'consulting': 32781,\n",
       " 'firm': 59720,\n",
       " 'headquartered': 68096,\n",
       " 'miami': 92014,\n",
       " 'florida': 60286,\n",
       " 'january': 78764,\n",
       " '2012': 1551,\n",
       " 'fusion': 63354,\n",
       " 'innovative': 74997,\n",
       " 'offerings': 99420,\n",
       " 'increasing': 73174,\n",
       " 'demand': 39941,\n",
       " 'today’s': 154347,\n",
       " 'economy': 47529,\n",
       " 'specialize': 141416,\n",
       " 'staffing': 142597,\n",
       " 'search': 133813,\n",
       " 'functions': 62955,\n",
       " 'industries': 73672,\n",
       " 'transfusion': 156161,\n",
       " 'gtt': 66584,\n",
       " 'practice': 112913,\n",
       " 'standards': 142972,\n",
       " 'temporary': 151598,\n",
       " 'temporarytohire': 151602,\n",
       " 'permanent': 107331,\n",
       " 'basis': 17346,\n",
       " 'transition': 156177,\n",
       " 'hct': 68037,\n",
       " 'subsidiary': 145563,\n",
       " 'offers': 99491,\n",
       " 'placement': 109127,\n",
       " 'specifically': 141444,\n",
       " 'healthcare': 68136,\n",
       " 'arena': 13204,\n",
       " 'ses': 135926,\n",
       " 'consultants': 32718,\n",
       " 'breed': 20832,\n",
       " 'evangelists': 54418,\n",
       " 'advise': 7717,\n",
       " 'streamline': 144766,\n",
       " 'direction': 44005,\n",
       " 'requires': 127184,\n",
       " 'term': 151684,\n",
       " 'sustainability': 147156,\n",
       " 'succession': 145841,\n",
       " 'leadership': 82514,\n",
       " 'compensation': 30701,\n",
       " 'recruitment': 123266,\n",
       " 'outsourcing': 103965,\n",
       " 'customized': 36972,\n",
       " 'suit': 146009,\n",
       " 'costeffective': 34371,\n",
       " 'potential': 112568,\n",
       " 'interested': 76328,\n",
       " 'discussing': 44625,\n",
       " 'current': 36414,\n",
       " 'open': 101037,\n",
       " 'vital': 163360,\n",
       " 'vcc': 162120,\n",
       " 'transitional': 156179,\n",
       " 'catered': 24562,\n",
       " 'job': 79363,\n",
       " 'applicant': 11214,\n",
       " 'resume': 128944,\n",
       " 'optimization': 102017,\n",
       " 'interview': 76882,\n",
       " 'coachingaddress4100': 28346,\n",
       " 'n': 95376,\n",
       " 'powerline': 112741,\n",
       " 'rd': 122284,\n",
       " 'ste': 143852,\n",
       " 'z3pompano': 169288,\n",
       " 'beach': 17716,\n",
       " 'fl': 59984,\n",
       " '33073office': 2481,\n",
       " 'phonec90b6ca89acd18d9e31ea3590b4ad76605721bc372025598fe9e1e60cf428551': 108222,\n",
       " 'fort': 61642,\n",
       " 'worth': 167652,\n",
       " 'bill': 19159,\n",
       " 'review': 129327,\n",
       " 'title': 154142,\n",
       " 'itemization': 78348,\n",
       " 'managerlocation': 87616,\n",
       " 'tx': 157310,\n",
       " 'department': 40211,\n",
       " 'reviewreports': 129365,\n",
       " 'vp': 163676,\n",
       " 'operations': 101248,\n",
       " 'general': 64021,\n",
       " 'descriptionresponsible': 40865,\n",
       " 'overall': 104028,\n",
       " 'aspects': 13836,\n",
       " 'personnel': 107648,\n",
       " 'control': 33530,\n",
       " 'monitoring': 93603,\n",
       " 'tracking': 155499,\n",
       " 'accountability': 5365,\n",
       " 'regarding': 123669,\n",
       " ...}"
      ]
     },
     "execution_count": 142,
     "metadata": {},
     "output_type": "execute_result"
    }
   ],
   "source": [
    "bow_transformer.vocabulary_"
   ]
  },
  {
   "cell_type": "code",
   "execution_count": 143,
   "id": "79befdaa",
   "metadata": {},
   "outputs": [],
   "source": [
    "# Create a TDM"
   ]
  },
  {
   "cell_type": "code",
   "execution_count": 144,
   "id": "3a9f23bd",
   "metadata": {},
   "outputs": [],
   "source": [
    "tdm = bow_transformer.transform(df_fake.X)"
   ]
  },
  {
   "cell_type": "code",
   "execution_count": 145,
   "id": "f7ebf4f2",
   "metadata": {},
   "outputs": [
    {
     "data": {
      "text/plain": [
       "(17880, 174329)"
      ]
     },
     "execution_count": 145,
     "metadata": {},
     "output_type": "execute_result"
    }
   ],
   "source": [
    "tdm.shape"
   ]
  },
  {
   "cell_type": "code",
   "execution_count": 146,
   "id": "4eb8c525",
   "metadata": {},
   "outputs": [],
   "source": [
    "# tdm will act as our X while sampling stage - using tdm we will build the model:--"
   ]
  },
  {
   "cell_type": "markdown",
   "id": "c92a49e9",
   "metadata": {},
   "source": [
    "#### Sampling Stage in NLP :--"
   ]
  },
  {
   "cell_type": "code",
   "execution_count": 147,
   "id": "32979522",
   "metadata": {},
   "outputs": [],
   "source": [
    "from sklearn.model_selection import train_test_split"
   ]
  },
  {
   "cell_type": "code",
   "execution_count": 148,
   "id": "930ba3c6",
   "metadata": {},
   "outputs": [],
   "source": [
    "train_X  , test_X , train_Y  , test_Y = train_test_split(tdm , df_fake.Y , test_size = .2)"
   ]
  },
  {
   "cell_type": "markdown",
   "id": "a5d3f877",
   "metadata": {},
   "source": [
    "#### model building stage:--"
   ]
  },
  {
   "cell_type": "markdown",
   "id": "0f55e1a4",
   "metadata": {},
   "source": [
    "#### NAIVE BAYES"
   ]
  },
  {
   "cell_type": "code",
   "execution_count": 149,
   "id": "c26fd861",
   "metadata": {},
   "outputs": [
    {
     "data": {
      "text/plain": [
       "MultinomialNB()"
      ]
     },
     "execution_count": 149,
     "metadata": {},
     "output_type": "execute_result"
    }
   ],
   "source": [
    "from sklearn.naive_bayes import MultinomialNB\n",
    "nb = MultinomialNB()\n",
    "nb.fit(train_X , train_Y)"
   ]
  },
  {
   "cell_type": "code",
   "execution_count": 150,
   "id": "c27fd0a5",
   "metadata": {},
   "outputs": [
    {
     "data": {
      "text/plain": [
       "array([0, 1, 0, ..., 0, 0, 0], dtype=int64)"
      ]
     },
     "execution_count": 150,
     "metadata": {},
     "output_type": "execute_result"
    }
   ],
   "source": [
    "nb_pred = nb.predict(test_X)\n",
    "nb_pred"
   ]
  },
  {
   "cell_type": "code",
   "execution_count": 151,
   "id": "9df4dacc",
   "metadata": {},
   "outputs": [],
   "source": [
    "from sklearn.metrics import *"
   ]
  },
  {
   "cell_type": "code",
   "execution_count": 152,
   "id": "1eefdd93",
   "metadata": {},
   "outputs": [
    {
     "data": {
      "text/html": [
       "<div>\n",
       "<style scoped>\n",
       "    .dataframe tbody tr th:only-of-type {\n",
       "        vertical-align: middle;\n",
       "    }\n",
       "\n",
       "    .dataframe tbody tr th {\n",
       "        vertical-align: top;\n",
       "    }\n",
       "\n",
       "    .dataframe thead th {\n",
       "        text-align: right;\n",
       "    }\n",
       "</style>\n",
       "<table border=\"1\" class=\"dataframe\">\n",
       "  <thead>\n",
       "    <tr style=\"text-align: right;\">\n",
       "      <th></th>\n",
       "      <th>non-fraud</th>\n",
       "      <th>fraud</th>\n",
       "    </tr>\n",
       "  </thead>\n",
       "  <tbody>\n",
       "    <tr>\n",
       "      <th>non-fraud</th>\n",
       "      <td>3397</td>\n",
       "      <td>21</td>\n",
       "    </tr>\n",
       "    <tr>\n",
       "      <th>fraud</th>\n",
       "      <td>69</td>\n",
       "      <td>89</td>\n",
       "    </tr>\n",
       "  </tbody>\n",
       "</table>\n",
       "</div>"
      ],
      "text/plain": [
       "           non-fraud  fraud\n",
       "non-fraud       3397     21\n",
       "fraud             69     89"
      ]
     },
     "execution_count": 152,
     "metadata": {},
     "output_type": "execute_result"
    }
   ],
   "source": [
    "tab_nb = confusion_matrix(test_Y , nb_pred)\n",
    "tab_nb = pd.DataFrame(tab_nb)\n",
    "tab_nb.columns = ['non-fraud','fraud']\n",
    "tab_nb.index = ['non-fraud','fraud']\n",
    "tab_nb"
   ]
  },
  {
   "cell_type": "code",
   "execution_count": 153,
   "id": "b0ea1ba2",
   "metadata": {},
   "outputs": [
    {
     "name": "stdout",
     "output_type": "stream",
     "text": [
      "              precision    recall  f1-score   support\n",
      "\n",
      "           0       0.98      0.99      0.99      3418\n",
      "           1       0.81      0.56      0.66       158\n",
      "\n",
      "    accuracy                           0.97      3576\n",
      "   macro avg       0.89      0.78      0.83      3576\n",
      "weighted avg       0.97      0.97      0.97      3576\n",
      "\n"
     ]
    }
   ],
   "source": [
    "print(classification_report(test_Y , nb_pred))"
   ]
  },
  {
   "cell_type": "code",
   "execution_count": null,
   "id": "22f5dab5",
   "metadata": {},
   "outputs": [],
   "source": []
  },
  {
   "cell_type": "markdown",
   "id": "aca6aa44",
   "metadata": {},
   "source": [
    "#### Logistic Regression Model :-"
   ]
  },
  {
   "cell_type": "code",
   "execution_count": 154,
   "id": "31ebfef4",
   "metadata": {},
   "outputs": [
    {
     "name": "stderr",
     "output_type": "stream",
     "text": [
      "C:\\Users\\HARSH\\anaconda3\\lib\\site-packages\\sklearn\\linear_model\\_logistic.py:814: ConvergenceWarning: lbfgs failed to converge (status=1):\n",
      "STOP: TOTAL NO. of ITERATIONS REACHED LIMIT.\n",
      "\n",
      "Increase the number of iterations (max_iter) or scale the data as shown in:\n",
      "    https://scikit-learn.org/stable/modules/preprocessing.html\n",
      "Please also refer to the documentation for alternative solver options:\n",
      "    https://scikit-learn.org/stable/modules/linear_model.html#logistic-regression\n",
      "  n_iter_i = _check_optimize_result(\n"
     ]
    }
   ],
   "source": [
    "from sklearn.linear_model import LogisticRegression\n",
    "logreg = LogisticRegression(class_weight='balanced')\n",
    "logreg.fit(train_X , train_Y)\n",
    "pred_logreg = logreg.predict(test_X)"
   ]
  },
  {
   "cell_type": "code",
   "execution_count": 155,
   "id": "ec08245b",
   "metadata": {},
   "outputs": [
    {
     "data": {
      "text/html": [
       "<div>\n",
       "<style scoped>\n",
       "    .dataframe tbody tr th:only-of-type {\n",
       "        vertical-align: middle;\n",
       "    }\n",
       "\n",
       "    .dataframe tbody tr th {\n",
       "        vertical-align: top;\n",
       "    }\n",
       "\n",
       "    .dataframe thead th {\n",
       "        text-align: right;\n",
       "    }\n",
       "</style>\n",
       "<table border=\"1\" class=\"dataframe\">\n",
       "  <thead>\n",
       "    <tr style=\"text-align: right;\">\n",
       "      <th></th>\n",
       "      <th>non-fraud</th>\n",
       "      <th>fraud</th>\n",
       "    </tr>\n",
       "  </thead>\n",
       "  <tbody>\n",
       "    <tr>\n",
       "      <th>non-fraud</th>\n",
       "      <td>3391</td>\n",
       "      <td>27</td>\n",
       "    </tr>\n",
       "    <tr>\n",
       "      <th>fraud</th>\n",
       "      <td>20</td>\n",
       "      <td>138</td>\n",
       "    </tr>\n",
       "  </tbody>\n",
       "</table>\n",
       "</div>"
      ],
      "text/plain": [
       "           non-fraud  fraud\n",
       "non-fraud       3391     27\n",
       "fraud             20    138"
      ]
     },
     "execution_count": 155,
     "metadata": {},
     "output_type": "execute_result"
    }
   ],
   "source": [
    "tab_logreg = confusion_matrix(test_Y ,pred_logreg)\n",
    "tab_logreg = pd.DataFrame(tab_logreg)\n",
    "tab_logreg.columns = ['non-fraud','fraud']\n",
    "tab_logreg.index = ['non-fraud','fraud']\n",
    "tab_logreg"
   ]
  },
  {
   "cell_type": "code",
   "execution_count": 156,
   "id": "c09e1ae4",
   "metadata": {},
   "outputs": [
    {
     "name": "stdout",
     "output_type": "stream",
     "text": [
      "              precision    recall  f1-score   support\n",
      "\n",
      "           0       0.99      0.99      0.99      3418\n",
      "           1       0.84      0.87      0.85       158\n",
      "\n",
      "    accuracy                           0.99      3576\n",
      "   macro avg       0.92      0.93      0.92      3576\n",
      "weighted avg       0.99      0.99      0.99      3576\n",
      "\n"
     ]
    }
   ],
   "source": [
    "print(classification_report(test_Y ,pred_logreg))"
   ]
  },
  {
   "cell_type": "code",
   "execution_count": null,
   "id": "01b315fd",
   "metadata": {},
   "outputs": [],
   "source": []
  },
  {
   "cell_type": "markdown",
   "id": "f2ac6679",
   "metadata": {},
   "source": [
    "#### Building Decision Tree :-"
   ]
  },
  {
   "cell_type": "code",
   "execution_count": 172,
   "id": "5ceea18c",
   "metadata": {},
   "outputs": [],
   "source": [
    "from sklearn.tree import DecisionTreeClassifier\n",
    "dt = DecisionTreeClassifier()"
   ]
  },
  {
   "cell_type": "code",
   "execution_count": 173,
   "id": "1227307c",
   "metadata": {},
   "outputs": [
    {
     "data": {
      "text/plain": [
       "DecisionTreeClassifier()"
      ]
     },
     "execution_count": 173,
     "metadata": {},
     "output_type": "execute_result"
    }
   ],
   "source": [
    "dt.fit(train_X ,train_Y)"
   ]
  },
  {
   "cell_type": "code",
   "execution_count": 54,
   "id": "d92a4515",
   "metadata": {},
   "outputs": [],
   "source": [
    "#from sklearn.model_selection import GridSearchCV"
   ]
  },
  {
   "cell_type": "code",
   "execution_count": 55,
   "id": "777bfe6f",
   "metadata": {},
   "outputs": [],
   "source": [
    "# search_dict = {'criterion':['gini','entropy'] , \n",
    "#                'max_depth':range(5,10) , \n",
    "#                 'min_samples_split':range(25,30)}"
   ]
  },
  {
   "cell_type": "code",
   "execution_count": 56,
   "id": "de6f23b6",
   "metadata": {},
   "outputs": [],
   "source": [
    "#grid = GridSearchCV(dt , param_grid=search_dict)"
   ]
  },
  {
   "cell_type": "code",
   "execution_count": 58,
   "id": "bf2500a6",
   "metadata": {},
   "outputs": [
    {
     "data": {
      "text/plain": [
       "GridSearchCV(estimator=DecisionTreeClassifier(),\n",
       "             param_grid={'criterion': ['gini', 'entropy'],\n",
       "                         'max_depth': range(5, 10),\n",
       "                         'min_samples_split': range(25, 30)})"
      ]
     },
     "execution_count": 58,
     "metadata": {},
     "output_type": "execute_result"
    }
   ],
   "source": [
    "#grid.fit(train_X , train_Y)"
   ]
  },
  {
   "cell_type": "code",
   "execution_count": 59,
   "id": "6761f8cc",
   "metadata": {},
   "outputs": [
    {
     "data": {
      "text/plain": [
       "{'criterion': 'gini', 'max_depth': 9, 'min_samples_split': 29}"
      ]
     },
     "execution_count": 59,
     "metadata": {},
     "output_type": "execute_result"
    }
   ],
   "source": [
    "#grid.best_params_ "
   ]
  },
  {
   "cell_type": "code",
   "execution_count": null,
   "id": "3b0a43fb",
   "metadata": {},
   "outputs": [],
   "source": []
  },
  {
   "cell_type": "code",
   "execution_count": 174,
   "id": "7590b225",
   "metadata": {},
   "outputs": [],
   "source": [
    "pred_dt = dt.predict(test_X)"
   ]
  },
  {
   "cell_type": "code",
   "execution_count": 175,
   "id": "ca30c2c3",
   "metadata": {},
   "outputs": [
    {
     "data": {
      "text/html": [
       "<div>\n",
       "<style scoped>\n",
       "    .dataframe tbody tr th:only-of-type {\n",
       "        vertical-align: middle;\n",
       "    }\n",
       "\n",
       "    .dataframe tbody tr th {\n",
       "        vertical-align: top;\n",
       "    }\n",
       "\n",
       "    .dataframe thead th {\n",
       "        text-align: right;\n",
       "    }\n",
       "</style>\n",
       "<table border=\"1\" class=\"dataframe\">\n",
       "  <thead>\n",
       "    <tr style=\"text-align: right;\">\n",
       "      <th></th>\n",
       "      <th>non-fraud</th>\n",
       "      <th>fraud</th>\n",
       "    </tr>\n",
       "  </thead>\n",
       "  <tbody>\n",
       "    <tr>\n",
       "      <th>non-fraud</th>\n",
       "      <td>3398</td>\n",
       "      <td>20</td>\n",
       "    </tr>\n",
       "    <tr>\n",
       "      <th>fraud</th>\n",
       "      <td>33</td>\n",
       "      <td>125</td>\n",
       "    </tr>\n",
       "  </tbody>\n",
       "</table>\n",
       "</div>"
      ],
      "text/plain": [
       "           non-fraud  fraud\n",
       "non-fraud       3398     20\n",
       "fraud             33    125"
      ]
     },
     "execution_count": 175,
     "metadata": {},
     "output_type": "execute_result"
    }
   ],
   "source": [
    "tab_dt = confusion_matrix(test_Y ,pred_dt)\n",
    "tab_dt = pd.DataFrame(tab_dt)\n",
    "tab_dt.columns = ['non-fraud','fraud']\n",
    "tab_dt.index = ['non-fraud','fraud']\n",
    "tab_dt"
   ]
  },
  {
   "cell_type": "code",
   "execution_count": 176,
   "id": "6faa06d8",
   "metadata": {},
   "outputs": [
    {
     "name": "stdout",
     "output_type": "stream",
     "text": [
      "              precision    recall  f1-score   support\n",
      "\n",
      "           0       0.99      0.99      0.99      3418\n",
      "           1       0.86      0.79      0.83       158\n",
      "\n",
      "    accuracy                           0.99      3576\n",
      "   macro avg       0.93      0.89      0.91      3576\n",
      "weighted avg       0.98      0.99      0.98      3576\n",
      "\n"
     ]
    }
   ],
   "source": [
    "print(classification_report(test_Y ,pred_dt))"
   ]
  },
  {
   "cell_type": "code",
   "execution_count": null,
   "id": "f7543a9b",
   "metadata": {},
   "outputs": [],
   "source": []
  },
  {
   "cell_type": "markdown",
   "id": "d4f711b2",
   "metadata": {},
   "source": [
    "#### Adaboost:-"
   ]
  },
  {
   "cell_type": "code",
   "execution_count": 177,
   "id": "4fa2cd00",
   "metadata": {},
   "outputs": [],
   "source": [
    "from sklearn.ensemble import AdaBoostClassifier\n",
    "abc = AdaBoostClassifier(dt)"
   ]
  },
  {
   "cell_type": "code",
   "execution_count": 178,
   "id": "f311725a",
   "metadata": {},
   "outputs": [],
   "source": [
    "abc.fit(train_X,train_Y)\n",
    "pred_abc = abc.predict(test_X)"
   ]
  },
  {
   "cell_type": "code",
   "execution_count": 179,
   "id": "2c3fc503",
   "metadata": {},
   "outputs": [
    {
     "data": {
      "text/html": [
       "<div>\n",
       "<style scoped>\n",
       "    .dataframe tbody tr th:only-of-type {\n",
       "        vertical-align: middle;\n",
       "    }\n",
       "\n",
       "    .dataframe tbody tr th {\n",
       "        vertical-align: top;\n",
       "    }\n",
       "\n",
       "    .dataframe thead th {\n",
       "        text-align: right;\n",
       "    }\n",
       "</style>\n",
       "<table border=\"1\" class=\"dataframe\">\n",
       "  <thead>\n",
       "    <tr style=\"text-align: right;\">\n",
       "      <th></th>\n",
       "      <th>non-fraud</th>\n",
       "      <th>fraud</th>\n",
       "    </tr>\n",
       "  </thead>\n",
       "  <tbody>\n",
       "    <tr>\n",
       "      <th>non-fraud</th>\n",
       "      <td>3398</td>\n",
       "      <td>20</td>\n",
       "    </tr>\n",
       "    <tr>\n",
       "      <th>fraud</th>\n",
       "      <td>33</td>\n",
       "      <td>125</td>\n",
       "    </tr>\n",
       "  </tbody>\n",
       "</table>\n",
       "</div>"
      ],
      "text/plain": [
       "           non-fraud  fraud\n",
       "non-fraud       3398     20\n",
       "fraud             33    125"
      ]
     },
     "execution_count": 179,
     "metadata": {},
     "output_type": "execute_result"
    }
   ],
   "source": [
    "tab_abc = confusion_matrix(test_Y ,pred_abc)\n",
    "tab_abc = pd.DataFrame(tab_abc)\n",
    "tab_abc.columns = ['non-fraud','fraud']\n",
    "tab_abc.index = ['non-fraud','fraud']\n",
    "tab_abc"
   ]
  },
  {
   "cell_type": "code",
   "execution_count": 180,
   "id": "3f7b5e2c",
   "metadata": {},
   "outputs": [
    {
     "name": "stdout",
     "output_type": "stream",
     "text": [
      "              precision    recall  f1-score   support\n",
      "\n",
      "           0       0.99      0.99      0.99      3418\n",
      "           1       0.86      0.79      0.83       158\n",
      "\n",
      "    accuracy                           0.99      3576\n",
      "   macro avg       0.93      0.89      0.91      3576\n",
      "weighted avg       0.98      0.99      0.98      3576\n",
      "\n"
     ]
    }
   ],
   "source": [
    "print(classification_report(test_Y ,pred_abc))"
   ]
  },
  {
   "cell_type": "code",
   "execution_count": null,
   "id": "2438a5e7",
   "metadata": {},
   "outputs": [],
   "source": []
  },
  {
   "cell_type": "markdown",
   "id": "cd92168c",
   "metadata": {},
   "source": [
    "#### XGBoost Classifier :--"
   ]
  },
  {
   "cell_type": "code",
   "execution_count": 181,
   "id": "0be582ce",
   "metadata": {},
   "outputs": [],
   "source": [
    "from xgboost import XGBClassifier\n",
    "xgb = XGBClassifier()\n",
    "xgb.fit(train_X , train_Y)\n",
    "pred_xgb = xgb.predict(test_X)"
   ]
  },
  {
   "cell_type": "code",
   "execution_count": 182,
   "id": "c29be11d",
   "metadata": {},
   "outputs": [
    {
     "data": {
      "text/html": [
       "<div>\n",
       "<style scoped>\n",
       "    .dataframe tbody tr th:only-of-type {\n",
       "        vertical-align: middle;\n",
       "    }\n",
       "\n",
       "    .dataframe tbody tr th {\n",
       "        vertical-align: top;\n",
       "    }\n",
       "\n",
       "    .dataframe thead th {\n",
       "        text-align: right;\n",
       "    }\n",
       "</style>\n",
       "<table border=\"1\" class=\"dataframe\">\n",
       "  <thead>\n",
       "    <tr style=\"text-align: right;\">\n",
       "      <th></th>\n",
       "      <th>non-fraud</th>\n",
       "      <th>fraud</th>\n",
       "    </tr>\n",
       "  </thead>\n",
       "  <tbody>\n",
       "    <tr>\n",
       "      <th>non-fraud</th>\n",
       "      <td>3409</td>\n",
       "      <td>9</td>\n",
       "    </tr>\n",
       "    <tr>\n",
       "      <th>fraud</th>\n",
       "      <td>38</td>\n",
       "      <td>120</td>\n",
       "    </tr>\n",
       "  </tbody>\n",
       "</table>\n",
       "</div>"
      ],
      "text/plain": [
       "           non-fraud  fraud\n",
       "non-fraud       3409      9\n",
       "fraud             38    120"
      ]
     },
     "execution_count": 182,
     "metadata": {},
     "output_type": "execute_result"
    }
   ],
   "source": [
    "tab_xgb = confusion_matrix(test_Y ,pred_xgb)\n",
    "tab_xgb = pd.DataFrame(tab_xgb)\n",
    "tab_xgb.columns = ['non-fraud','fraud']\n",
    "tab_xgb.index = ['non-fraud','fraud']\n",
    "tab_xgb"
   ]
  },
  {
   "cell_type": "code",
   "execution_count": 183,
   "id": "5293aecb",
   "metadata": {},
   "outputs": [
    {
     "name": "stdout",
     "output_type": "stream",
     "text": [
      "              precision    recall  f1-score   support\n",
      "\n",
      "           0       0.99      1.00      0.99      3418\n",
      "           1       0.93      0.76      0.84       158\n",
      "\n",
      "    accuracy                           0.99      3576\n",
      "   macro avg       0.96      0.88      0.91      3576\n",
      "weighted avg       0.99      0.99      0.99      3576\n",
      "\n"
     ]
    }
   ],
   "source": [
    "print(classification_report(test_Y ,pred_xgb))"
   ]
  },
  {
   "cell_type": "code",
   "execution_count": null,
   "id": "bbcee6a3",
   "metadata": {},
   "outputs": [],
   "source": []
  },
  {
   "cell_type": "markdown",
   "id": "2cded435",
   "metadata": {},
   "source": [
    "#### Random Forest:---"
   ]
  },
  {
   "cell_type": "code",
   "execution_count": 184,
   "id": "8ac53162",
   "metadata": {},
   "outputs": [],
   "source": [
    "from sklearn.ensemble import RandomForestClassifier\n",
    "rfc = RandomForestClassifier(class_weight='balanced')"
   ]
  },
  {
   "cell_type": "code",
   "execution_count": 185,
   "id": "c4c2e281",
   "metadata": {},
   "outputs": [
    {
     "data": {
      "text/plain": [
       "RandomForestClassifier(class_weight='balanced')"
      ]
     },
     "execution_count": 185,
     "metadata": {},
     "output_type": "execute_result"
    }
   ],
   "source": [
    "rfc.fit(train_X ,train_Y)"
   ]
  },
  {
   "cell_type": "code",
   "execution_count": 186,
   "id": "e2d859b4",
   "metadata": {},
   "outputs": [],
   "source": [
    "pred_rfc = rfc.predict(test_X)"
   ]
  },
  {
   "cell_type": "code",
   "execution_count": 187,
   "id": "8c12f2c3",
   "metadata": {},
   "outputs": [
    {
     "data": {
      "text/html": [
       "<div>\n",
       "<style scoped>\n",
       "    .dataframe tbody tr th:only-of-type {\n",
       "        vertical-align: middle;\n",
       "    }\n",
       "\n",
       "    .dataframe tbody tr th {\n",
       "        vertical-align: top;\n",
       "    }\n",
       "\n",
       "    .dataframe thead th {\n",
       "        text-align: right;\n",
       "    }\n",
       "</style>\n",
       "<table border=\"1\" class=\"dataframe\">\n",
       "  <thead>\n",
       "    <tr style=\"text-align: right;\">\n",
       "      <th></th>\n",
       "      <th>non-fraud</th>\n",
       "      <th>fraud</th>\n",
       "    </tr>\n",
       "  </thead>\n",
       "  <tbody>\n",
       "    <tr>\n",
       "      <th>non-fraud</th>\n",
       "      <td>3416</td>\n",
       "      <td>2</td>\n",
       "    </tr>\n",
       "    <tr>\n",
       "      <th>fraud</th>\n",
       "      <td>60</td>\n",
       "      <td>98</td>\n",
       "    </tr>\n",
       "  </tbody>\n",
       "</table>\n",
       "</div>"
      ],
      "text/plain": [
       "           non-fraud  fraud\n",
       "non-fraud       3416      2\n",
       "fraud             60     98"
      ]
     },
     "execution_count": 187,
     "metadata": {},
     "output_type": "execute_result"
    }
   ],
   "source": [
    "tab_rfc = confusion_matrix(test_Y ,pred_rfc)\n",
    "tab_rfc = pd.DataFrame(tab_rfc)\n",
    "tab_rfc.columns = ['non-fraud','fraud']\n",
    "tab_rfc.index = ['non-fraud','fraud']\n",
    "tab_rfc"
   ]
  },
  {
   "cell_type": "code",
   "execution_count": 188,
   "id": "b7f51be0",
   "metadata": {},
   "outputs": [
    {
     "name": "stdout",
     "output_type": "stream",
     "text": [
      "              precision    recall  f1-score   support\n",
      "\n",
      "           0       0.98      1.00      0.99      3418\n",
      "           1       0.98      0.62      0.76       158\n",
      "\n",
      "    accuracy                           0.98      3576\n",
      "   macro avg       0.98      0.81      0.88      3576\n",
      "weighted avg       0.98      0.98      0.98      3576\n",
      "\n"
     ]
    }
   ],
   "source": [
    "print(classification_report(test_Y ,pred_rfc))"
   ]
  },
  {
   "cell_type": "code",
   "execution_count": null,
   "id": "d49ecf13",
   "metadata": {},
   "outputs": [],
   "source": []
  },
  {
   "cell_type": "markdown",
   "id": "0959b2f2",
   "metadata": {},
   "source": [
    "#### KNN :-"
   ]
  },
  {
   "cell_type": "code",
   "execution_count": 189,
   "id": "8e3e3061",
   "metadata": {},
   "outputs": [
    {
     "data": {
      "text/plain": [
       "KNeighborsClassifier()"
      ]
     },
     "execution_count": 189,
     "metadata": {},
     "output_type": "execute_result"
    }
   ],
   "source": [
    "from sklearn.neighbors import KNeighborsClassifier\n",
    "knn = KNeighborsClassifier()\n",
    "knn.fit(train_X,train_Y)"
   ]
  },
  {
   "cell_type": "code",
   "execution_count": 190,
   "id": "fd626002",
   "metadata": {},
   "outputs": [],
   "source": [
    "pred_knn = knn.predict(test_X)"
   ]
  },
  {
   "cell_type": "code",
   "execution_count": 191,
   "id": "db64f532",
   "metadata": {},
   "outputs": [
    {
     "data": {
      "text/html": [
       "<div>\n",
       "<style scoped>\n",
       "    .dataframe tbody tr th:only-of-type {\n",
       "        vertical-align: middle;\n",
       "    }\n",
       "\n",
       "    .dataframe tbody tr th {\n",
       "        vertical-align: top;\n",
       "    }\n",
       "\n",
       "    .dataframe thead th {\n",
       "        text-align: right;\n",
       "    }\n",
       "</style>\n",
       "<table border=\"1\" class=\"dataframe\">\n",
       "  <thead>\n",
       "    <tr style=\"text-align: right;\">\n",
       "      <th></th>\n",
       "      <th>non-fraud</th>\n",
       "      <th>fraud</th>\n",
       "    </tr>\n",
       "  </thead>\n",
       "  <tbody>\n",
       "    <tr>\n",
       "      <th>non-fraud</th>\n",
       "      <td>3297</td>\n",
       "      <td>121</td>\n",
       "    </tr>\n",
       "    <tr>\n",
       "      <th>fraud</th>\n",
       "      <td>37</td>\n",
       "      <td>121</td>\n",
       "    </tr>\n",
       "  </tbody>\n",
       "</table>\n",
       "</div>"
      ],
      "text/plain": [
       "           non-fraud  fraud\n",
       "non-fraud       3297    121\n",
       "fraud             37    121"
      ]
     },
     "execution_count": 191,
     "metadata": {},
     "output_type": "execute_result"
    }
   ],
   "source": [
    "tab_knn = confusion_matrix(test_Y ,pred_knn)\n",
    "tab_knn = pd.DataFrame(tab_knn)\n",
    "tab_knn.columns = ['non-fraud','fraud']\n",
    "tab_knn.index = ['non-fraud','fraud']\n",
    "tab_knn"
   ]
  },
  {
   "cell_type": "code",
   "execution_count": 192,
   "id": "0d7f6a27",
   "metadata": {},
   "outputs": [
    {
     "name": "stdout",
     "output_type": "stream",
     "text": [
      "              precision    recall  f1-score   support\n",
      "\n",
      "           0       0.99      0.96      0.98      3418\n",
      "           1       0.50      0.77      0.60       158\n",
      "\n",
      "    accuracy                           0.96      3576\n",
      "   macro avg       0.74      0.87      0.79      3576\n",
      "weighted avg       0.97      0.96      0.96      3576\n",
      "\n"
     ]
    }
   ],
   "source": [
    "print(classification_report(test_Y ,pred_knn))"
   ]
  },
  {
   "cell_type": "code",
   "execution_count": null,
   "id": "88b32448",
   "metadata": {},
   "outputs": [],
   "source": []
  },
  {
   "cell_type": "markdown",
   "id": "344cc9ff",
   "metadata": {},
   "source": [
    "#### SVM :-"
   ]
  },
  {
   "cell_type": "code",
   "execution_count": 193,
   "id": "f155bd32",
   "metadata": {},
   "outputs": [],
   "source": [
    "from sklearn.svm import SVC\n",
    "svc= SVC(class_weight='balanced',kernel='linear')\n",
    "svc.fit(train_X ,train_Y)\n",
    "pred_svc = svc.predict(test_X)"
   ]
  },
  {
   "cell_type": "code",
   "execution_count": 194,
   "id": "92a22be4",
   "metadata": {},
   "outputs": [
    {
     "data": {
      "text/html": [
       "<div>\n",
       "<style scoped>\n",
       "    .dataframe tbody tr th:only-of-type {\n",
       "        vertical-align: middle;\n",
       "    }\n",
       "\n",
       "    .dataframe tbody tr th {\n",
       "        vertical-align: top;\n",
       "    }\n",
       "\n",
       "    .dataframe thead th {\n",
       "        text-align: right;\n",
       "    }\n",
       "</style>\n",
       "<table border=\"1\" class=\"dataframe\">\n",
       "  <thead>\n",
       "    <tr style=\"text-align: right;\">\n",
       "      <th></th>\n",
       "      <th>non-fraud</th>\n",
       "      <th>fraud</th>\n",
       "    </tr>\n",
       "  </thead>\n",
       "  <tbody>\n",
       "    <tr>\n",
       "      <th>non-fraud</th>\n",
       "      <td>3396</td>\n",
       "      <td>22</td>\n",
       "    </tr>\n",
       "    <tr>\n",
       "      <th>fraud</th>\n",
       "      <td>28</td>\n",
       "      <td>130</td>\n",
       "    </tr>\n",
       "  </tbody>\n",
       "</table>\n",
       "</div>"
      ],
      "text/plain": [
       "           non-fraud  fraud\n",
       "non-fraud       3396     22\n",
       "fraud             28    130"
      ]
     },
     "execution_count": 194,
     "metadata": {},
     "output_type": "execute_result"
    }
   ],
   "source": [
    "tab_svc = confusion_matrix(test_Y ,pred_svc)\n",
    "tab_svc = pd.DataFrame(tab_svc)\n",
    "tab_svc.columns = ['non-fraud','fraud']\n",
    "tab_svc.index = ['non-fraud','fraud']\n",
    "tab_svc"
   ]
  },
  {
   "cell_type": "code",
   "execution_count": 195,
   "id": "c7e1733e",
   "metadata": {},
   "outputs": [
    {
     "name": "stdout",
     "output_type": "stream",
     "text": [
      "              precision    recall  f1-score   support\n",
      "\n",
      "           0       0.99      0.99      0.99      3418\n",
      "           1       0.86      0.82      0.84       158\n",
      "\n",
      "    accuracy                           0.99      3576\n",
      "   macro avg       0.92      0.91      0.92      3576\n",
      "weighted avg       0.99      0.99      0.99      3576\n",
      "\n"
     ]
    }
   ],
   "source": [
    "print(classification_report(test_Y ,pred_svc))"
   ]
  },
  {
   "cell_type": "code",
   "execution_count": null,
   "id": "3f44805f",
   "metadata": {},
   "outputs": [],
   "source": []
  },
  {
   "cell_type": "code",
   "execution_count": null,
   "id": "47738638",
   "metadata": {},
   "outputs": [],
   "source": []
  },
  {
   "cell_type": "code",
   "execution_count": null,
   "id": "10a0a87b",
   "metadata": {},
   "outputs": [],
   "source": []
  },
  {
   "cell_type": "code",
   "execution_count": null,
   "id": "2038fd0a",
   "metadata": {},
   "outputs": [],
   "source": []
  },
  {
   "cell_type": "code",
   "execution_count": null,
   "id": "e738d9d5",
   "metadata": {},
   "outputs": [],
   "source": []
  },
  {
   "cell_type": "code",
   "execution_count": null,
   "id": "6851ea15",
   "metadata": {},
   "outputs": [],
   "source": []
  },
  {
   "cell_type": "code",
   "execution_count": null,
   "id": "1bc41e21",
   "metadata": {},
   "outputs": [],
   "source": []
  },
  {
   "cell_type": "code",
   "execution_count": null,
   "id": "1c9af7fe",
   "metadata": {},
   "outputs": [],
   "source": []
  },
  {
   "cell_type": "code",
   "execution_count": null,
   "id": "8b0fce25",
   "metadata": {},
   "outputs": [],
   "source": []
  },
  {
   "cell_type": "code",
   "execution_count": null,
   "id": "7c476220",
   "metadata": {},
   "outputs": [],
   "source": []
  },
  {
   "cell_type": "code",
   "execution_count": null,
   "id": "441ab3a6",
   "metadata": {},
   "outputs": [],
   "source": []
  },
  {
   "cell_type": "code",
   "execution_count": null,
   "id": "2733b906",
   "metadata": {},
   "outputs": [],
   "source": []
  },
  {
   "cell_type": "code",
   "execution_count": null,
   "id": "839a7064",
   "metadata": {},
   "outputs": [],
   "source": []
  },
  {
   "cell_type": "code",
   "execution_count": null,
   "id": "1c228da8",
   "metadata": {},
   "outputs": [],
   "source": []
  },
  {
   "cell_type": "code",
   "execution_count": null,
   "id": "2e2e905a",
   "metadata": {},
   "outputs": [],
   "source": []
  },
  {
   "cell_type": "code",
   "execution_count": null,
   "id": "b4ec5bf2",
   "metadata": {},
   "outputs": [],
   "source": []
  },
  {
   "cell_type": "code",
   "execution_count": null,
   "id": "8f69a747",
   "metadata": {},
   "outputs": [],
   "source": []
  },
  {
   "cell_type": "code",
   "execution_count": null,
   "id": "4a3126da",
   "metadata": {},
   "outputs": [],
   "source": []
  },
  {
   "cell_type": "code",
   "execution_count": null,
   "id": "6a58fc92",
   "metadata": {},
   "outputs": [],
   "source": []
  },
  {
   "cell_type": "code",
   "execution_count": null,
   "id": "57620ca3",
   "metadata": {},
   "outputs": [],
   "source": []
  },
  {
   "cell_type": "code",
   "execution_count": null,
   "id": "3d99514f",
   "metadata": {},
   "outputs": [],
   "source": []
  },
  {
   "cell_type": "code",
   "execution_count": null,
   "id": "0c492e80",
   "metadata": {},
   "outputs": [],
   "source": []
  },
  {
   "cell_type": "code",
   "execution_count": null,
   "id": "16c26073",
   "metadata": {},
   "outputs": [],
   "source": []
  },
  {
   "cell_type": "code",
   "execution_count": null,
   "id": "1d2e8c77",
   "metadata": {},
   "outputs": [],
   "source": []
  },
  {
   "cell_type": "code",
   "execution_count": null,
   "id": "80853b72",
   "metadata": {},
   "outputs": [],
   "source": []
  },
  {
   "cell_type": "code",
   "execution_count": null,
   "id": "4482a721",
   "metadata": {},
   "outputs": [],
   "source": []
  },
  {
   "cell_type": "code",
   "execution_count": null,
   "id": "19df47b2",
   "metadata": {},
   "outputs": [],
   "source": []
  }
 ],
 "metadata": {
  "kernelspec": {
   "display_name": "Python 3 (ipykernel)",
   "language": "python",
   "name": "python3"
  },
  "language_info": {
   "codemirror_mode": {
    "name": "ipython",
    "version": 3
   },
   "file_extension": ".py",
   "mimetype": "text/x-python",
   "name": "python",
   "nbconvert_exporter": "python",
   "pygments_lexer": "ipython3",
   "version": "3.9.12"
  }
 },
 "nbformat": 4,
 "nbformat_minor": 5
}
